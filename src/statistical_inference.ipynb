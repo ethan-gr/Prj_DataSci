{
 "cells": [
  {
   "cell_type": "code",
   "execution_count": 32,
   "metadata": {
    "vscode": {
     "languageId": "r"
    }
   },
   "outputs": [
    {
     "name": "stderr",
     "output_type": "stream",
     "text": [
      "Loading required package: carData\n",
      "\n"
     ]
    }
   ],
   "source": [
    "library(ggplot2)\n",
    "library(ggpubr)\n",
    "library(fitdistrplus)\n",
    "library(nortest)\n",
    "library(car)"
   ]
  },
  {
   "cell_type": "code",
   "execution_count": 2,
   "metadata": {
    "vscode": {
     "languageId": "r"
    }
   },
   "outputs": [],
   "source": [
    "data <- read.csv(\"../results/cardiovascular_disease_clean.csv\", \n",
    "colClasses = c(\"numeric\", \"factor\", \"integer\", \"numeric\", \"integer\", \"integer\", \"factor\", \"factor\", \"factor\", \"factor\", \"factor\", \"factor\", \"numeric\", \"numeric\"))"
   ]
  },
  {
   "cell_type": "code",
   "execution_count": 3,
   "metadata": {
    "vscode": {
     "languageId": "r"
    }
   },
   "outputs": [],
   "source": [
    "quantitative.cols <- c(1, 3, 4, 5, 6, 13, 14)\n"
   ]
  },
  {
   "cell_type": "markdown",
   "metadata": {},
   "source": [
    "### Distribuciones"
   ]
  },
  {
   "cell_type": "code",
   "execution_count": 4,
   "metadata": {
    "vscode": {
     "languageId": "r"
    }
   },
   "outputs": [],
   "source": [
    "plot_histograms <- function(column){\n",
    "    ggplot(data, aes(x=data[,column], fill=cardio)) + \n",
    "    geom_density(alpha=0.5) +\n",
    "    labs(x=column)\n",
    "}\n",
    "plots <- lapply(colnames(data[, quantitative.cols]), plot_histograms)\n",
    "\n",
    "plot.arrange <- ggarrange(plots[[1]],plots[[2]],plots[[3]],plots[[6]], plots[[4]],\n",
    "          plots[[5]],plots[[7]], nrow=2, ncol=4)\n",
    "\n",
    "ggsave(\"../docs/assests/plot.png\",bg = \"white\", plot = plot.arrange, width = 15, height = 10)\n",
    "\n"
   ]
  },
  {
   "cell_type": "code",
   "execution_count": 123,
   "metadata": {
    "vscode": {
     "languageId": "r"
    }
   },
   "outputs": [],
   "source": [
    "cardio.yes <- data[data$cardio == \"Yes\", ]\n",
    "cardio.no <- data[data$cardio == \"No\", ]"
   ]
  },
  {
   "cell_type": "code",
   "execution_count": 124,
   "metadata": {
    "vscode": {
     "languageId": "r"
    }
   },
   "outputs": [
    {
     "data": {
      "text/html": [
       "<ol>\n",
       "\t<li><strong>pdf:</strong> 2</li>\n",
       "\t<li><strong>pdf:</strong> 2</li>\n",
       "\t<li><strong>pdf:</strong> 2</li>\n",
       "\t<li><strong>pdf:</strong> 2</li>\n",
       "\t<li><strong>pdf:</strong> 2</li>\n",
       "\t<li><strong>pdf:</strong> 2</li>\n",
       "\t<li><strong>pdf:</strong> 2</li>\n",
       "</ol>\n"
      ],
      "text/latex": [
       "\\begin{enumerate}\n",
       "\\item \\textbf{pdf:} 2\n",
       "\\item \\textbf{pdf:} 2\n",
       "\\item \\textbf{pdf:} 2\n",
       "\\item \\textbf{pdf:} 2\n",
       "\\item \\textbf{pdf:} 2\n",
       "\\item \\textbf{pdf:} 2\n",
       "\\item \\textbf{pdf:} 2\n",
       "\\end{enumerate}\n"
      ],
      "text/markdown": [
       "1. **pdf:** 2\n",
       "2. **pdf:** 2\n",
       "3. **pdf:** 2\n",
       "4. **pdf:** 2\n",
       "5. **pdf:** 2\n",
       "6. **pdf:** 2\n",
       "7. **pdf:** 2\n",
       "\n",
       "\n"
      ],
      "text/plain": [
       "[[1]]\n",
       "pdf \n",
       "  2 \n",
       "\n",
       "[[2]]\n",
       "pdf \n",
       "  2 \n",
       "\n",
       "[[3]]\n",
       "pdf \n",
       "  2 \n",
       "\n",
       "[[4]]\n",
       "pdf \n",
       "  2 \n",
       "\n",
       "[[5]]\n",
       "pdf \n",
       "  2 \n",
       "\n",
       "[[6]]\n",
       "pdf \n",
       "  2 \n",
       "\n",
       "[[7]]\n",
       "pdf \n",
       "  2 \n"
      ]
     },
     "metadata": {},
     "output_type": "display_data"
    }
   ],
   "source": [
    "plot_descdist <- function(colname){\n",
    "    png(paste(\"../docs/assests/\", colname, \"_cardio_yes_dists.png\", sep=\"\"), bg = \"white\", width = 800, height = 600)\n",
    "    descdist(cardio.yes[, colname])\n",
    "    dev.off()\n",
    "}\n",
    "\n",
    "lapply(colnames(cardio.yes[, quantitative.cols]), plot_descdist)"
   ]
  },
  {
   "cell_type": "code",
   "execution_count": 7,
   "metadata": {
    "vscode": {
     "languageId": "r"
    }
   },
   "outputs": [
    {
     "data": {
      "text/html": [
       "<ol>\n",
       "\t<li><strong>pdf:</strong> 2</li>\n",
       "\t<li><strong>pdf:</strong> 2</li>\n",
       "\t<li><strong>pdf:</strong> 2</li>\n",
       "\t<li><strong>pdf:</strong> 2</li>\n",
       "\t<li><strong>pdf:</strong> 2</li>\n",
       "\t<li><strong>pdf:</strong> 2</li>\n",
       "\t<li><strong>pdf:</strong> 2</li>\n",
       "</ol>\n"
      ],
      "text/latex": [
       "\\begin{enumerate}\n",
       "\\item \\textbf{pdf:} 2\n",
       "\\item \\textbf{pdf:} 2\n",
       "\\item \\textbf{pdf:} 2\n",
       "\\item \\textbf{pdf:} 2\n",
       "\\item \\textbf{pdf:} 2\n",
       "\\item \\textbf{pdf:} 2\n",
       "\\item \\textbf{pdf:} 2\n",
       "\\end{enumerate}\n"
      ],
      "text/markdown": [
       "1. **pdf:** 2\n",
       "2. **pdf:** 2\n",
       "3. **pdf:** 2\n",
       "4. **pdf:** 2\n",
       "5. **pdf:** 2\n",
       "6. **pdf:** 2\n",
       "7. **pdf:** 2\n",
       "\n",
       "\n"
      ],
      "text/plain": [
       "[[1]]\n",
       "pdf \n",
       "  2 \n",
       "\n",
       "[[2]]\n",
       "pdf \n",
       "  2 \n",
       "\n",
       "[[3]]\n",
       "pdf \n",
       "  2 \n",
       "\n",
       "[[4]]\n",
       "pdf \n",
       "  2 \n",
       "\n",
       "[[5]]\n",
       "pdf \n",
       "  2 \n",
       "\n",
       "[[6]]\n",
       "pdf \n",
       "  2 \n",
       "\n",
       "[[7]]\n",
       "pdf \n",
       "  2 \n"
      ]
     },
     "metadata": {},
     "output_type": "display_data"
    }
   ],
   "source": [
    "plot_descdist <- function(colname){\n",
    "    png(paste(\"../docs/assests/\", colname, \"_cardio_no_dists.png\", sep=\"\"), bg = \"white\", width = 800, height = 600)\n",
    "    descdist(cardio.no[, colname])\n",
    "    dev.off()\n",
    "}\n",
    "\n",
    "lapply(colnames(cardio.no[, quantitative.cols]), plot_descdist)"
   ]
  },
  {
   "cell_type": "markdown",
   "metadata": {
    "vscode": {
     "languageId": "r"
    }
   },
   "source": [
    "### Prueba de normalidad"
   ]
  },
  {
   "cell_type": "code",
   "execution_count": 12,
   "metadata": {
    "vscode": {
     "languageId": "r"
    }
   },
   "outputs": [
    {
     "data": {
      "text/plain": [
       "$age_year\n",
       "\n",
       "\tLilliefors (Kolmogorov-Smirnov) normality test\n",
       "\n",
       "data:  X[[i]]\n",
       "D = 0.059375, p-value < 2.2e-16\n",
       "\n",
       "\n",
       "$height\n",
       "\n",
       "\tLilliefors (Kolmogorov-Smirnov) normality test\n",
       "\n",
       "data:  X[[i]]\n",
       "D = 0.051846, p-value < 2.2e-16\n",
       "\n",
       "\n",
       "$weight\n",
       "\n",
       "\tLilliefors (Kolmogorov-Smirnov) normality test\n",
       "\n",
       "data:  X[[i]]\n",
       "D = 0.079516, p-value < 2.2e-16\n",
       "\n",
       "\n",
       "$ap_hi\n",
       "\n",
       "\tLilliefors (Kolmogorov-Smirnov) normality test\n",
       "\n",
       "data:  X[[i]]\n",
       "D = 0.2716, p-value < 2.2e-16\n",
       "\n",
       "\n",
       "$ap_lo\n",
       "\n",
       "\tLilliefors (Kolmogorov-Smirnov) normality test\n",
       "\n",
       "data:  X[[i]]\n",
       "D = 0.28659, p-value < 2.2e-16\n",
       "\n",
       "\n",
       "$IMC\n",
       "\n",
       "\tLilliefors (Kolmogorov-Smirnov) normality test\n",
       "\n",
       "data:  X[[i]]\n",
       "D = 0.079099, p-value < 2.2e-16\n",
       "\n",
       "\n",
       "$pulse\n",
       "\n",
       "\tLilliefors (Kolmogorov-Smirnov) normality test\n",
       "\n",
       "data:  X[[i]]\n",
       "D = 0.3057, p-value < 2.2e-16\n",
       "\n"
      ]
     },
     "metadata": {},
     "output_type": "display_data"
    }
   ],
   "source": [
    "lapply(data[, quantitative.cols], lillie.test)"
   ]
  },
  {
   "cell_type": "markdown",
   "metadata": {},
   "source": [
    "Basado en las estadísticas de normalidad estimadas por el test de Kolmogorov-Smirnov, vemos que ninguno de los datos sigue una distribución normal. Por lo tanto, para el resto de análisis aplicaremos pruebas no paramétricas."
   ]
  },
  {
   "cell_type": "markdown",
   "metadata": {},
   "source": [
    "### Homocedasticidad"
   ]
  },
  {
   "cell_type": "code",
   "execution_count": 70,
   "metadata": {
    "vscode": {
     "languageId": "r"
    }
   },
   "outputs": [
    {
     "data": {
      "text/plain": [
       "$age_year\n",
       "\n",
       "\tFligner-Killeen test of homogeneity of variances\n",
       "\n",
       "data:  x and data[, col]\n",
       "Fligner-Killeen:med chi-squared = 145.74, df = 1, p-value < 2.2e-16\n",
       "\n",
       "\n",
       "$height\n",
       "\n",
       "\tFligner-Killeen test of homogeneity of variances\n",
       "\n",
       "data:  x and data[, col]\n",
       "Fligner-Killeen:med chi-squared = 53.315, df = 1, p-value = 2.841e-13\n",
       "\n",
       "\n",
       "$weight\n",
       "\n",
       "\tFligner-Killeen test of homogeneity of variances\n",
       "\n",
       "data:  x and data[, col]\n",
       "Fligner-Killeen:med chi-squared = 817.97, df = 1, p-value < 2.2e-16\n",
       "\n",
       "\n",
       "$ap_hi\n",
       "\n",
       "\tFligner-Killeen test of homogeneity of variances\n",
       "\n",
       "data:  x and data[, col]\n",
       "Fligner-Killeen:med chi-squared = 11337, df = 1, p-value < 2.2e-16\n",
       "\n",
       "\n",
       "$ap_lo\n",
       "\n",
       "\tFligner-Killeen test of homogeneity of variances\n",
       "\n",
       "data:  x and data[, col]\n",
       "Fligner-Killeen:med chi-squared = 1878.6, df = 1, p-value < 2.2e-16\n",
       "\n",
       "\n",
       "$IMC\n",
       "\n",
       "\tFligner-Killeen test of homogeneity of variances\n",
       "\n",
       "data:  x and data[, col]\n",
       "Fligner-Killeen:med chi-squared = 1550.5, df = 1, p-value < 2.2e-16\n",
       "\n",
       "\n",
       "$pulse\n",
       "\n",
       "\tFligner-Killeen test of homogeneity of variances\n",
       "\n",
       "data:  x and data[, col]\n",
       "Fligner-Killeen:med chi-squared = 8908, df = 1, p-value < 2.2e-16\n",
       "\n"
      ]
     },
     "metadata": {},
     "output_type": "display_data"
    }
   ],
   "source": [
    "apply_fligner <- function(x, col) {\n",
    "    fligner.test(x = x, g = data[, col])\n",
    "}\n",
    "lapply(data[, quantitative.cols], apply_fligner, col=\"cardio\")"
   ]
  },
  {
   "cell_type": "code",
   "execution_count": 69,
   "metadata": {
    "vscode": {
     "languageId": "r"
    }
   },
   "outputs": [
    {
     "name": "stdout",
     "output_type": "stream",
     "text": [
      "[[1]]\n",
      "Levene's Test for Homogeneity of Variance (center = \"median\")\n",
      "         Df F value    Pr(>F)    \n",
      "group     1  203.25 < 2.2e-16 ***\n",
      "      61213                      \n",
      "---\n",
      "Signif. codes:  0 ‘***’ 0.001 ‘**’ 0.01 ‘*’ 0.05 ‘.’ 0.1 ‘ ’ 1\n",
      "\n",
      "[[2]]\n",
      "Levene's Test for Homogeneity of Variance (center = \"median\")\n",
      "         Df F value  Pr(>F)    \n",
      "group     1  53.105 3.2e-13 ***\n",
      "      61213                    \n",
      "---\n",
      "Signif. codes:  0 ‘***’ 0.001 ‘**’ 0.01 ‘*’ 0.05 ‘.’ 0.1 ‘ ’ 1\n",
      "\n",
      "[[3]]\n",
      "Levene's Test for Homogeneity of Variance (center = \"median\")\n",
      "         Df F value    Pr(>F)    \n",
      "group     1  834.87 < 2.2e-16 ***\n",
      "      61213                      \n",
      "---\n",
      "Signif. codes:  0 ‘***’ 0.001 ‘**’ 0.01 ‘*’ 0.05 ‘.’ 0.1 ‘ ’ 1\n",
      "\n",
      "[[4]]\n",
      "Levene's Test for Homogeneity of Variance (center = \"median\")\n",
      "         Df F value    Pr(>F)    \n",
      "group     1   14612 < 2.2e-16 ***\n",
      "      61213                      \n",
      "---\n",
      "Signif. codes:  0 ‘***’ 0.001 ‘**’ 0.01 ‘*’ 0.05 ‘.’ 0.1 ‘ ’ 1\n",
      "\n",
      "[[5]]\n",
      "Levene's Test for Homogeneity of Variance (center = \"median\")\n",
      "         Df F value    Pr(>F)    \n",
      "group     1  2044.3 < 2.2e-16 ***\n",
      "      61213                      \n",
      "---\n",
      "Signif. codes:  0 ‘***’ 0.001 ‘**’ 0.01 ‘*’ 0.05 ‘.’ 0.1 ‘ ’ 1\n",
      "\n",
      "[[6]]\n",
      "Levene's Test for Homogeneity of Variance (center = \"median\")\n",
      "         Df F value    Pr(>F)    \n",
      "group     1  1530.2 < 2.2e-16 ***\n",
      "      61213                      \n",
      "---\n",
      "Signif. codes:  0 ‘***’ 0.001 ‘**’ 0.01 ‘*’ 0.05 ‘.’ 0.1 ‘ ’ 1\n",
      "\n",
      "[[7]]\n",
      "Levene's Test for Homogeneity of Variance (center = \"median\")\n",
      "         Df F value    Pr(>F)    \n",
      "group     1   11088 < 2.2e-16 ***\n",
      "      61213                      \n",
      "---\n",
      "Signif. codes:  0 ‘***’ 0.001 ‘**’ 0.01 ‘*’ 0.05 ‘.’ 0.1 ‘ ’ 1\n",
      "\n"
     ]
    }
   ],
   "source": [
    "apply_levene <- function(col, col2){\n",
    "    leveneTest(y=data[,col]~data[,col2], data = data, center = \"median\")\n",
    "    }\n",
    "levene.results <- lapply(colnames(data[, quantitative.cols]), apply_levene, col2=\"cardio\")\n",
    "print(levene.results)"
   ]
  },
  {
   "cell_type": "code",
   "execution_count": 86,
   "metadata": {
    "vscode": {
     "languageId": "r"
    }
   },
   "outputs": [
    {
     "name": "stdout",
     "output_type": "stream",
     "text": [
      "[1] \"Cholesterol\"\n"
     ]
    },
    {
     "data": {
      "text/plain": [
       "$age_year\n",
       "\n",
       "\tFligner-Killeen test of homogeneity of variances\n",
       "\n",
       "data:  x and data[, col]\n",
       "Fligner-Killeen:med chi-squared = 268.24, df = 2, p-value < 2.2e-16\n",
       "\n",
       "\n",
       "$height\n",
       "\n",
       "\tFligner-Killeen test of homogeneity of variances\n",
       "\n",
       "data:  x and data[, col]\n",
       "Fligner-Killeen:med chi-squared = 82.682, df = 2, p-value < 2.2e-16\n",
       "\n",
       "\n",
       "$weight\n",
       "\n",
       "\tFligner-Killeen test of homogeneity of variances\n",
       "\n",
       "data:  x and data[, col]\n",
       "Fligner-Killeen:med chi-squared = 422.2, df = 2, p-value < 2.2e-16\n",
       "\n",
       "\n",
       "$ap_hi\n",
       "\n",
       "\tFligner-Killeen test of homogeneity of variances\n",
       "\n",
       "data:  x and data[, col]\n",
       "Fligner-Killeen:med chi-squared = 1577.4, df = 2, p-value < 2.2e-16\n",
       "\n",
       "\n",
       "$ap_lo\n",
       "\n",
       "\tFligner-Killeen test of homogeneity of variances\n",
       "\n",
       "data:  x and data[, col]\n",
       "Fligner-Killeen:med chi-squared = 560.73, df = 2, p-value < 2.2e-16\n",
       "\n",
       "\n",
       "$IMC\n",
       "\n",
       "\tFligner-Killeen test of homogeneity of variances\n",
       "\n",
       "data:  x and data[, col]\n",
       "Fligner-Killeen:med chi-squared = 579.04, df = 2, p-value < 2.2e-16\n",
       "\n",
       "\n",
       "$pulse\n",
       "\n",
       "\tFligner-Killeen test of homogeneity of variances\n",
       "\n",
       "data:  x and data[, col]\n",
       "Fligner-Killeen:med chi-squared = 1303.8, df = 2, p-value < 2.2e-16\n",
       "\n"
      ]
     },
     "metadata": {},
     "output_type": "display_data"
    },
    {
     "name": "stdout",
     "output_type": "stream",
     "text": [
      "[1] \"Gender\"\n"
     ]
    },
    {
     "data": {
      "text/plain": [
       "$age_year\n",
       "\n",
       "\tFligner-Killeen test of homogeneity of variances\n",
       "\n",
       "data:  x and data[, col]\n",
       "Fligner-Killeen:med chi-squared = 85.725, df = 1, p-value < 2.2e-16\n",
       "\n",
       "\n",
       "$height\n",
       "\n",
       "\tFligner-Killeen test of homogeneity of variances\n",
       "\n",
       "data:  x and data[, col]\n",
       "Fligner-Killeen:med chi-squared = 15.516, df = 1, p-value = 8.182e-05\n",
       "\n",
       "\n",
       "$weight\n",
       "\n",
       "\tFligner-Killeen test of homogeneity of variances\n",
       "\n",
       "data:  x and data[, col]\n",
       "Fligner-Killeen:med chi-squared = 99.848, df = 1, p-value < 2.2e-16\n",
       "\n",
       "\n",
       "$ap_hi\n",
       "\n",
       "\tFligner-Killeen test of homogeneity of variances\n",
       "\n",
       "data:  x and data[, col]\n",
       "Fligner-Killeen:med chi-squared = 1.3441, df = 1, p-value = 0.2463\n",
       "\n",
       "\n",
       "$ap_lo\n",
       "\n",
       "\tFligner-Killeen test of homogeneity of variances\n",
       "\n",
       "data:  x and data[, col]\n",
       "Fligner-Killeen:med chi-squared = 7.6894, df = 1, p-value = 0.005555\n",
       "\n",
       "\n",
       "$IMC\n",
       "\n",
       "\tFligner-Killeen test of homogeneity of variances\n",
       "\n",
       "data:  x and data[, col]\n",
       "Fligner-Killeen:med chi-squared = 755.38, df = 1, p-value < 2.2e-16\n",
       "\n",
       "\n",
       "$pulse\n",
       "\n",
       "\tFligner-Killeen test of homogeneity of variances\n",
       "\n",
       "data:  x and data[, col]\n",
       "Fligner-Killeen:med chi-squared = 2.2074, df = 1, p-value = 0.1373\n",
       "\n"
      ]
     },
     "metadata": {},
     "output_type": "display_data"
    },
    {
     "name": "stdout",
     "output_type": "stream",
     "text": [
      "[1] \"Gluc\"\n"
     ]
    },
    {
     "data": {
      "text/plain": [
       "$age_year\n",
       "\n",
       "\tFligner-Killeen test of homogeneity of variances\n",
       "\n",
       "data:  x and data[, col]\n",
       "Fligner-Killeen:med chi-squared = 116.33, df = 2, p-value < 2.2e-16\n",
       "\n",
       "\n",
       "$height\n",
       "\n",
       "\tFligner-Killeen test of homogeneity of variances\n",
       "\n",
       "data:  x and data[, col]\n",
       "Fligner-Killeen:med chi-squared = 34.999, df = 2, p-value = 2.512e-08\n",
       "\n",
       "\n",
       "$weight\n",
       "\n",
       "\tFligner-Killeen test of homogeneity of variances\n",
       "\n",
       "data:  x and data[, col]\n",
       "Fligner-Killeen:med chi-squared = 188.65, df = 2, p-value < 2.2e-16\n",
       "\n",
       "\n",
       "$ap_hi\n",
       "\n",
       "\tFligner-Killeen test of homogeneity of variances\n",
       "\n",
       "data:  x and data[, col]\n",
       "Fligner-Killeen:med chi-squared = 636.51, df = 2, p-value < 2.2e-16\n",
       "\n",
       "\n",
       "$ap_lo\n",
       "\n",
       "\tFligner-Killeen test of homogeneity of variances\n",
       "\n",
       "data:  x and data[, col]\n",
       "Fligner-Killeen:med chi-squared = 125.61, df = 2, p-value < 2.2e-16\n",
       "\n",
       "\n",
       "$IMC\n",
       "\n",
       "\tFligner-Killeen test of homogeneity of variances\n",
       "\n",
       "data:  x and data[, col]\n",
       "Fligner-Killeen:med chi-squared = 270.78, df = 2, p-value < 2.2e-16\n",
       "\n",
       "\n",
       "$pulse\n",
       "\n",
       "\tFligner-Killeen test of homogeneity of variances\n",
       "\n",
       "data:  x and data[, col]\n",
       "Fligner-Killeen:med chi-squared = 318.28, df = 2, p-value < 2.2e-16\n",
       "\n"
      ]
     },
     "metadata": {},
     "output_type": "display_data"
    },
    {
     "name": "stdout",
     "output_type": "stream",
     "text": [
      "[1] \"smoke\"\n"
     ]
    },
    {
     "data": {
      "text/plain": [
       "$age_year\n",
       "\n",
       "\tFligner-Killeen test of homogeneity of variances\n",
       "\n",
       "data:  x and data[, col]\n",
       "Fligner-Killeen:med chi-squared = 2.2084, df = 1, p-value = 0.1373\n",
       "\n",
       "\n",
       "$height\n",
       "\n",
       "\tFligner-Killeen test of homogeneity of variances\n",
       "\n",
       "data:  x and data[, col]\n",
       "Fligner-Killeen:med chi-squared = 32.563, df = 1, p-value = 1.154e-08\n",
       "\n",
       "\n",
       "$weight\n",
       "\n",
       "\tFligner-Killeen test of homogeneity of variances\n",
       "\n",
       "data:  x and data[, col]\n",
       "Fligner-Killeen:med chi-squared = 28.535, df = 1, p-value = 9.202e-08\n",
       "\n",
       "\n",
       "$ap_hi\n",
       "\n",
       "\tFligner-Killeen test of homogeneity of variances\n",
       "\n",
       "data:  x and data[, col]\n",
       "Fligner-Killeen:med chi-squared = 35.351, df = 1, p-value = 2.754e-09\n",
       "\n",
       "\n",
       "$ap_lo\n",
       "\n",
       "\tFligner-Killeen test of homogeneity of variances\n",
       "\n",
       "data:  x and data[, col]\n",
       "Fligner-Killeen:med chi-squared = 14.951, df = 1, p-value = 0.0001103\n",
       "\n",
       "\n",
       "$IMC\n",
       "\n",
       "\tFligner-Killeen test of homogeneity of variances\n",
       "\n",
       "data:  x and data[, col]\n",
       "Fligner-Killeen:med chi-squared = 26.837, df = 1, p-value = 2.213e-07\n",
       "\n",
       "\n",
       "$pulse\n",
       "\n",
       "\tFligner-Killeen test of homogeneity of variances\n",
       "\n",
       "data:  x and data[, col]\n",
       "Fligner-Killeen:med chi-squared = 32.727, df = 1, p-value = 1.06e-08\n",
       "\n"
      ]
     },
     "metadata": {},
     "output_type": "display_data"
    },
    {
     "name": "stdout",
     "output_type": "stream",
     "text": [
      "[1] \"alco\"\n"
     ]
    },
    {
     "data": {
      "text/plain": [
       "$age_year\n",
       "\n",
       "\tFligner-Killeen test of homogeneity of variances\n",
       "\n",
       "data:  x and data[, col]\n",
       "Fligner-Killeen:med chi-squared = 0.12201, df = 1, p-value = 0.7269\n",
       "\n",
       "\n",
       "$height\n",
       "\n",
       "\tFligner-Killeen test of homogeneity of variances\n",
       "\n",
       "data:  x and data[, col]\n",
       "Fligner-Killeen:med chi-squared = 6.9104, df = 1, p-value = 0.008569\n",
       "\n",
       "\n",
       "$weight\n",
       "\n",
       "\tFligner-Killeen test of homogeneity of variances\n",
       "\n",
       "data:  x and data[, col]\n",
       "Fligner-Killeen:med chi-squared = 27.106, df = 1, p-value = 1.926e-07\n",
       "\n",
       "\n",
       "$ap_hi\n",
       "\n",
       "\tFligner-Killeen test of homogeneity of variances\n",
       "\n",
       "data:  x and data[, col]\n",
       "Fligner-Killeen:med chi-squared = 53.406, df = 1, p-value = 2.712e-13\n",
       "\n",
       "\n",
       "$ap_lo\n",
       "\n",
       "\tFligner-Killeen test of homogeneity of variances\n",
       "\n",
       "data:  x and data[, col]\n",
       "Fligner-Killeen:med chi-squared = 60.398, df = 1, p-value = 7.75e-15\n",
       "\n",
       "\n",
       "$IMC\n",
       "\n",
       "\tFligner-Killeen test of homogeneity of variances\n",
       "\n",
       "data:  x and data[, col]\n",
       "Fligner-Killeen:med chi-squared = 1.8771, df = 1, p-value = 0.1707\n",
       "\n",
       "\n",
       "$pulse\n",
       "\n",
       "\tFligner-Killeen test of homogeneity of variances\n",
       "\n",
       "data:  x and data[, col]\n",
       "Fligner-Killeen:med chi-squared = 38.222, df = 1, p-value = 6.313e-10\n",
       "\n"
      ]
     },
     "metadata": {},
     "output_type": "display_data"
    },
    {
     "name": "stdout",
     "output_type": "stream",
     "text": [
      "[1] \"active\"\n"
     ]
    },
    {
     "data": {
      "text/plain": [
       "$age_year\n",
       "\n",
       "\tFligner-Killeen test of homogeneity of variances\n",
       "\n",
       "data:  x and data[, col]\n",
       "Fligner-Killeen:med chi-squared = 0.040573, df = 1, p-value = 0.8404\n",
       "\n",
       "\n",
       "$height\n",
       "\n",
       "\tFligner-Killeen test of homogeneity of variances\n",
       "\n",
       "data:  x and data[, col]\n",
       "Fligner-Killeen:med chi-squared = 4.215, df = 1, p-value = 0.04007\n",
       "\n",
       "\n",
       "$weight\n",
       "\n",
       "\tFligner-Killeen test of homogeneity of variances\n",
       "\n",
       "data:  x and data[, col]\n",
       "Fligner-Killeen:med chi-squared = 6.4643, df = 1, p-value = 0.01101\n",
       "\n",
       "\n",
       "$ap_hi\n",
       "\n",
       "\tFligner-Killeen test of homogeneity of variances\n",
       "\n",
       "data:  x and data[, col]\n",
       "Fligner-Killeen:med chi-squared = 10.482, df = 1, p-value = 0.001206\n",
       "\n",
       "\n",
       "$ap_lo\n",
       "\n",
       "\tFligner-Killeen test of homogeneity of variances\n",
       "\n",
       "data:  x and data[, col]\n",
       "Fligner-Killeen:med chi-squared = 8.1413, df = 1, p-value = 0.004327\n",
       "\n",
       "\n",
       "$IMC\n",
       "\n",
       "\tFligner-Killeen test of homogeneity of variances\n",
       "\n",
       "data:  x and data[, col]\n",
       "Fligner-Killeen:med chi-squared = 6.1294, df = 1, p-value = 0.0133\n",
       "\n",
       "\n",
       "$pulse\n",
       "\n",
       "\tFligner-Killeen test of homogeneity of variances\n",
       "\n",
       "data:  x and data[, col]\n",
       "Fligner-Killeen:med chi-squared = 0.015972, df = 1, p-value = 0.8994\n",
       "\n"
      ]
     },
     "metadata": {},
     "output_type": "display_data"
    },
    {
     "name": "stdout",
     "output_type": "stream",
     "text": [
      "[1] \"cardio\"\n"
     ]
    },
    {
     "data": {
      "text/plain": [
       "$age_year\n",
       "\n",
       "\tFligner-Killeen test of homogeneity of variances\n",
       "\n",
       "data:  x and data[, col]\n",
       "Fligner-Killeen:med chi-squared = 145.74, df = 1, p-value < 2.2e-16\n",
       "\n",
       "\n",
       "$height\n",
       "\n",
       "\tFligner-Killeen test of homogeneity of variances\n",
       "\n",
       "data:  x and data[, col]\n",
       "Fligner-Killeen:med chi-squared = 53.315, df = 1, p-value = 2.841e-13\n",
       "\n",
       "\n",
       "$weight\n",
       "\n",
       "\tFligner-Killeen test of homogeneity of variances\n",
       "\n",
       "data:  x and data[, col]\n",
       "Fligner-Killeen:med chi-squared = 817.97, df = 1, p-value < 2.2e-16\n",
       "\n",
       "\n",
       "$ap_hi\n",
       "\n",
       "\tFligner-Killeen test of homogeneity of variances\n",
       "\n",
       "data:  x and data[, col]\n",
       "Fligner-Killeen:med chi-squared = 11337, df = 1, p-value < 2.2e-16\n",
       "\n",
       "\n",
       "$ap_lo\n",
       "\n",
       "\tFligner-Killeen test of homogeneity of variances\n",
       "\n",
       "data:  x and data[, col]\n",
       "Fligner-Killeen:med chi-squared = 1878.6, df = 1, p-value < 2.2e-16\n",
       "\n",
       "\n",
       "$IMC\n",
       "\n",
       "\tFligner-Killeen test of homogeneity of variances\n",
       "\n",
       "data:  x and data[, col]\n",
       "Fligner-Killeen:med chi-squared = 1550.5, df = 1, p-value < 2.2e-16\n",
       "\n",
       "\n",
       "$pulse\n",
       "\n",
       "\tFligner-Killeen test of homogeneity of variances\n",
       "\n",
       "data:  x and data[, col]\n",
       "Fligner-Killeen:med chi-squared = 8908, df = 1, p-value < 2.2e-16\n",
       "\n"
      ]
     },
     "metadata": {},
     "output_type": "display_data"
    }
   ],
   "source": [
    "print(\"Cholesterol\")\n",
    "apply_fligner <- function(x, col) {\n",
    "    fligner.test(x = x, g = data[, col])\n",
    "}\n",
    "lapply(data[, quantitative.cols], apply_fligner, col=\"cholesterol\")\n",
    "\n",
    "print(\"Gender\")\n",
    "apply_fligner <- function(x, col) {\n",
    "    fligner.test(x = x, g = data[, col])\n",
    "}\n",
    "lapply(data[, quantitative.cols], apply_fligner, col=\"gender\")\n",
    "\n",
    "print(\"Gluc\")\n",
    "apply_fligner <- function(x, col) {\n",
    "    fligner.test(x = x, g = data[, col])\n",
    "}\n",
    "lapply(data[, quantitative.cols], apply_fligner, col=\"gluc\")\n",
    "\n",
    "print(\"smoke\")\n",
    "apply_fligner <- function(x, col) {\n",
    "    fligner.test(x = x, g = data[, col])\n",
    "}\n",
    "lapply(data[, quantitative.cols], apply_fligner, col=\"smoke\")\n",
    "\n",
    "print(\"alco\")\n",
    "apply_fligner <- function(x, col) {\n",
    "    fligner.test(x = x, g = data[, col])\n",
    "}\n",
    "lapply(data[, quantitative.cols], apply_fligner, col=\"alco\")\n",
    "\n",
    "print(\"active\")\n",
    "apply_fligner <- function(x, col) {\n",
    "    fligner.test(x = x, g = data[, col])\n",
    "}\n",
    "lapply(data[, quantitative.cols], apply_fligner, col=\"active\")\n",
    "\n",
    "print(\"cardio\")\n",
    "apply_fligner <- function(x, col) {\n",
    "    fligner.test(x = x, g = data[, col])\n",
    "}\n",
    "lapply(data[, quantitative.cols], apply_fligner, col=\"cardio\")\n",
    "\n"
   ]
  },
  {
   "cell_type": "code",
   "execution_count": 98,
   "metadata": {
    "vscode": {
     "languageId": "r"
    }
   },
   "outputs": [
    {
     "data": {
      "text/plain": [
       "\n",
       "\tFligner-Killeen test of homogeneity of variances\n",
       "\n",
       "data:  data$age_year and paste(data$cardio, data$cholesterol)\n",
       "Fligner-Killeen:med chi-squared = 317.9, df = 5, p-value < 2.2e-16\n"
      ]
     },
     "metadata": {},
     "output_type": "display_data"
    },
    {
     "data": {
      "text/plain": [
       "\n",
       "\tFligner-Killeen test of homogeneity of variances\n",
       "\n",
       "data:  data$age_year and paste(data$cardio, data$gluc)\n",
       "Fligner-Killeen:med chi-squared = 247.81, df = 5, p-value < 2.2e-16\n"
      ]
     },
     "metadata": {},
     "output_type": "display_data"
    },
    {
     "data": {
      "text/plain": [
       "\n",
       "\tFligner-Killeen test of homogeneity of variances\n",
       "\n",
       "data:  data$age_year and paste(data$cardio, data$gender)\n",
       "Fligner-Killeen:med chi-squared = 306.7, df = 3, p-value < 2.2e-16\n"
      ]
     },
     "metadata": {},
     "output_type": "display_data"
    },
    {
     "data": {
      "text/plain": [
       "\n",
       "\tFligner-Killeen test of homogeneity of variances\n",
       "\n",
       "data:  data$age_year and paste(data$cardio, data$smoke)\n",
       "Fligner-Killeen:med chi-squared = 170.42, df = 3, p-value < 2.2e-16\n"
      ]
     },
     "metadata": {},
     "output_type": "display_data"
    },
    {
     "data": {
      "text/plain": [
       "\n",
       "\tFligner-Killeen test of homogeneity of variances\n",
       "\n",
       "data:  data$age_year and paste(data$cardio, data$alco)\n",
       "Fligner-Killeen:med chi-squared = 148.37, df = 3, p-value < 2.2e-16\n"
      ]
     },
     "metadata": {},
     "output_type": "display_data"
    },
    {
     "data": {
      "text/plain": [
       "\n",
       "\tFligner-Killeen test of homogeneity of variances\n",
       "\n",
       "data:  data$age_year and paste(data$cardio, data$active)\n",
       "Fligner-Killeen:med chi-squared = 145.82, df = 3, p-value < 2.2e-16\n"
      ]
     },
     "metadata": {},
     "output_type": "display_data"
    }
   ],
   "source": [
    "fligner.test(x = data$age_year, g = paste(data$cardio, data$cholesterol))\n",
    "\n",
    "fligner.test(x = data$age_year, g = paste(data$cardio, data$gluc))\n",
    "\n",
    "fligner.test(x = data$age_year, g = paste(data$cardio, data$gender))\n",
    "\n",
    "fligner.test(x = data$age_year, g = paste(data$cardio, data$smoke))\n",
    "\n",
    "fligner.test(x = data$age_year, g = paste(data$cardio, data$alco))\n",
    "\n",
    "fligner.test(x = data$age_year, g = paste(data$cardio, data$active))"
   ]
  },
  {
   "cell_type": "code",
   "execution_count": 99,
   "metadata": {
    "vscode": {
     "languageId": "r"
    }
   },
   "outputs": [
    {
     "data": {
      "text/plain": [
       "\n",
       "\tFligner-Killeen test of homogeneity of variances\n",
       "\n",
       "data:  data$ap_hi and paste(data$cardio, data$cholesterol)\n",
       "Fligner-Killeen:med chi-squared = 10975, df = 5, p-value < 2.2e-16\n"
      ]
     },
     "metadata": {},
     "output_type": "display_data"
    },
    {
     "data": {
      "text/plain": [
       "\n",
       "\tFligner-Killeen test of homogeneity of variances\n",
       "\n",
       "data:  data$ap_hi and paste(data$cardio, data$gluc)\n",
       "Fligner-Killeen:med chi-squared = 11321, df = 5, p-value < 2.2e-16\n"
      ]
     },
     "metadata": {},
     "output_type": "display_data"
    },
    {
     "data": {
      "text/plain": [
       "\n",
       "\tFligner-Killeen test of homogeneity of variances\n",
       "\n",
       "data:  data$ap_hi and paste(data$cardio, data$gender)\n",
       "Fligner-Killeen:med chi-squared = 11445, df = 3, p-value < 2.2e-16\n"
      ]
     },
     "metadata": {},
     "output_type": "display_data"
    },
    {
     "data": {
      "text/plain": [
       "\n",
       "\tFligner-Killeen test of homogeneity of variances\n",
       "\n",
       "data:  data$ap_hi and paste(data$cardio, data$smoke)\n",
       "Fligner-Killeen:med chi-squared = 11201, df = 3, p-value < 2.2e-16\n"
      ]
     },
     "metadata": {},
     "output_type": "display_data"
    },
    {
     "data": {
      "text/plain": [
       "\n",
       "\tFligner-Killeen test of homogeneity of variances\n",
       "\n",
       "data:  data$ap_hi and paste(data$cardio, data$alco)\n",
       "Fligner-Killeen:med chi-squared = 11236, df = 3, p-value < 2.2e-16\n"
      ]
     },
     "metadata": {},
     "output_type": "display_data"
    },
    {
     "data": {
      "text/plain": [
       "\n",
       "\tFligner-Killeen test of homogeneity of variances\n",
       "\n",
       "data:  data$ap_hi and paste(data$cardio, data$active)\n",
       "Fligner-Killeen:med chi-squared = 11357, df = 3, p-value < 2.2e-16\n"
      ]
     },
     "metadata": {},
     "output_type": "display_data"
    }
   ],
   "source": [
    "fligner.test(x = data$ap_hi, g = paste(data$cardio, data$cholesterol))\n",
    "\n",
    "fligner.test(x = data$ap_hi, g = paste(data$cardio, data$gluc))\n",
    "\n",
    "fligner.test(x = data$ap_hi, g = paste(data$cardio, data$gender))\n",
    "\n",
    "fligner.test(x = data$ap_hi, g = paste(data$cardio, data$smoke))\n",
    "\n",
    "fligner.test(x = data$ap_hi, g = paste(data$cardio, data$alco))\n",
    "\n",
    "fligner.test(x = data$ap_hi, g = paste(data$cardio, data$active))"
   ]
  },
  {
   "cell_type": "code",
   "execution_count": 100,
   "metadata": {
    "vscode": {
     "languageId": "r"
    }
   },
   "outputs": [
    {
     "data": {
      "text/plain": [
       "\n",
       "\tFligner-Killeen test of homogeneity of variances\n",
       "\n",
       "data:  data$ap_lo and paste(data$cardio, data$cholesterol)\n",
       "Fligner-Killeen:med chi-squared = 1924.8, df = 5, p-value < 2.2e-16\n"
      ]
     },
     "metadata": {},
     "output_type": "display_data"
    },
    {
     "data": {
      "text/plain": [
       "\n",
       "\tFligner-Killeen test of homogeneity of variances\n",
       "\n",
       "data:  data$ap_lo and paste(data$cardio, data$gluc)\n",
       "Fligner-Killeen:med chi-squared = 2178.4, df = 5, p-value < 2.2e-16\n"
      ]
     },
     "metadata": {},
     "output_type": "display_data"
    },
    {
     "data": {
      "text/plain": [
       "\n",
       "\tFligner-Killeen test of homogeneity of variances\n",
       "\n",
       "data:  data$ap_lo and paste(data$cardio, data$gender)\n",
       "Fligner-Killeen:med chi-squared = 2039.1, df = 3, p-value < 2.2e-16\n"
      ]
     },
     "metadata": {},
     "output_type": "display_data"
    },
    {
     "data": {
      "text/plain": [
       "\n",
       "\tFligner-Killeen test of homogeneity of variances\n",
       "\n",
       "data:  data$ap_lo and paste(data$cardio, data$smoke)\n",
       "Fligner-Killeen:med chi-squared = 2104, df = 3, p-value < 2.2e-16\n"
      ]
     },
     "metadata": {},
     "output_type": "display_data"
    },
    {
     "data": {
      "text/plain": [
       "\n",
       "\tFligner-Killeen test of homogeneity of variances\n",
       "\n",
       "data:  data$ap_lo and paste(data$cardio, data$alco)\n",
       "Fligner-Killeen:med chi-squared = 1812.4, df = 3, p-value < 2.2e-16\n"
      ]
     },
     "metadata": {},
     "output_type": "display_data"
    },
    {
     "data": {
      "text/plain": [
       "\n",
       "\tFligner-Killeen test of homogeneity of variances\n",
       "\n",
       "data:  data$ap_lo and paste(data$cardio, data$active)\n",
       "Fligner-Killeen:med chi-squared = 1907.6, df = 3, p-value < 2.2e-16\n"
      ]
     },
     "metadata": {},
     "output_type": "display_data"
    }
   ],
   "source": [
    "fligner.test(x = data$ap_lo, g = paste(data$cardio, data$cholesterol))\n",
    "\n",
    "fligner.test(x = data$ap_lo, g = paste(data$cardio, data$gluc))\n",
    "\n",
    "fligner.test(x = data$ap_lo, g = paste(data$cardio, data$gender))\n",
    "\n",
    "fligner.test(x = data$ap_lo, g = paste(data$cardio, data$smoke))\n",
    "\n",
    "fligner.test(x = data$ap_lo, g = paste(data$cardio, data$alco))\n",
    "\n",
    "fligner.test(x = data$ap_lo, g = paste(data$cardio, data$active))"
   ]
  },
  {
   "cell_type": "code",
   "execution_count": 101,
   "metadata": {
    "vscode": {
     "languageId": "r"
    }
   },
   "outputs": [
    {
     "data": {
      "text/plain": [
       "\n",
       "\tFligner-Killeen test of homogeneity of variances\n",
       "\n",
       "data:  data$IMC and paste(data$cardio, data$cholesterol)\n",
       "Fligner-Killeen:med chi-squared = 1607.3, df = 5, p-value < 2.2e-16\n"
      ]
     },
     "metadata": {},
     "output_type": "display_data"
    },
    {
     "data": {
      "text/plain": [
       "\n",
       "\tFligner-Killeen test of homogeneity of variances\n",
       "\n",
       "data:  data$IMC and paste(data$cardio, data$gluc)\n",
       "Fligner-Killeen:med chi-squared = 1604, df = 5, p-value < 2.2e-16\n"
      ]
     },
     "metadata": {},
     "output_type": "display_data"
    },
    {
     "data": {
      "text/plain": [
       "\n",
       "\tFligner-Killeen test of homogeneity of variances\n",
       "\n",
       "data:  data$IMC and paste(data$cardio, data$gender)\n",
       "Fligner-Killeen:med chi-squared = 2289.6, df = 3, p-value < 2.2e-16\n"
      ]
     },
     "metadata": {},
     "output_type": "display_data"
    },
    {
     "data": {
      "text/plain": [
       "\n",
       "\tFligner-Killeen test of homogeneity of variances\n",
       "\n",
       "data:  data$IMC and paste(data$cardio, data$smoke)\n",
       "Fligner-Killeen:med chi-squared = 1595.3, df = 3, p-value < 2.2e-16\n"
      ]
     },
     "metadata": {},
     "output_type": "display_data"
    },
    {
     "data": {
      "text/plain": [
       "\n",
       "\tFligner-Killeen test of homogeneity of variances\n",
       "\n",
       "data:  data$IMC and paste(data$cardio, data$alco)\n",
       "Fligner-Killeen:med chi-squared = 1548.2, df = 3, p-value < 2.2e-16\n"
      ]
     },
     "metadata": {},
     "output_type": "display_data"
    },
    {
     "data": {
      "text/plain": [
       "\n",
       "\tFligner-Killeen test of homogeneity of variances\n",
       "\n",
       "data:  data$IMC and paste(data$cardio, data$active)\n",
       "Fligner-Killeen:med chi-squared = 1553.6, df = 3, p-value < 2.2e-16\n"
      ]
     },
     "metadata": {},
     "output_type": "display_data"
    }
   ],
   "source": [
    "fligner.test(x = data$IMC, g = paste(data$cardio, data$cholesterol))\n",
    "\n",
    "fligner.test(x = data$IMC, g = paste(data$cardio, data$gluc))\n",
    "\n",
    "fligner.test(x = data$IMC, g = paste(data$cardio, data$gender))\n",
    "\n",
    "fligner.test(x = data$IMC, g = paste(data$cardio, data$smoke))\n",
    "\n",
    "fligner.test(x = data$IMC, g = paste(data$cardio, data$alco))\n",
    "\n",
    "fligner.test(x = data$IMC, g = paste(data$cardio, data$active))"
   ]
  },
  {
   "cell_type": "markdown",
   "metadata": {},
   "source": [
    "### Normalizar"
   ]
  },
  {
   "cell_type": "code",
   "execution_count": 107,
   "metadata": {
    "vscode": {
     "languageId": "r"
    }
   },
   "outputs": [
    {
     "name": "stdout",
     "output_type": "stream",
     "text": [
      "\n",
      "\n",
      "\n",
      "\n",
      "\n",
      "\n",
      "\n"
     ]
    },
    {
     "data": {
      "text/plain": [
       "$age_year\n",
       "Best Normalizing transformation with 61215 Observations\n",
       " Estimated Normality Statistics (Pearson P / df, lower => more normal):\n",
       " - arcsinh(x): 60.0781\n",
       " - Box-Cox: 55.2542\n",
       " - Center+scale: 57.8941\n",
       " - Double Reversed Log_b(x+a): 54.7672\n",
       " - Exp(x): 3712.9255\n",
       " - Log_b(x+a): 60.0793\n",
       " - orderNorm (ORQ): 1.1441\n",
       " - sqrt(x + a): 61.3754\n",
       " - Yeo-Johnson: 55.321\n",
       "Estimation method: Out-of-sample via CV with 10 folds and 5 repeats\n",
       " \n",
       "Based off these, bestNormalize chose:\n",
       "orderNorm Transformation with 61215 nonmissing obs and ties\n",
       " - 7990 unique values \n",
       " - Original quantiles:\n",
       "    0%    25%    50%    75%   100% \n",
       "29.584 48.292 53.948 58.375 64.967 \n",
       "\n",
       "$height\n",
       "Best Normalizing transformation with 61215 Observations\n",
       " Estimated Normality Statistics (Pearson P / df, lower => more normal):\n",
       " - arcsinh(x): 182.0352\n",
       " - Box-Cox: 181.8664\n",
       " - Center+scale: 182.1074\n",
       " - Double Reversed Log_b(x+a): 183.4496\n",
       " - Exp(x): 6293.2881\n",
       " - Log_b(x+a): 182.0352\n",
       " - orderNorm (ORQ): 182.4126\n",
       " - sqrt(x + a): 181.9576\n",
       " - Yeo-Johnson: 181.8664\n",
       "Estimation method: Out-of-sample via CV with 10 folds and 5 repeats\n",
       " \n",
       "Based off these, bestNormalize chose:\n",
       "Standardized Box Cox Transformation with 61215 nonmissing obs.:\n",
       " Estimated statistics:\n",
       " - lambda = 0.2005005 \n",
       " - mean (before standardization) = 8.887756 \n",
       " - sd (before standardization) = 0.1307166 \n",
       "\n",
       "$weight\n",
       "Best Normalizing transformation with 61215 Observations\n",
       " Estimated Normality Statistics (Pearson P / df, lower => more normal):\n",
       " - arcsinh(x): 85.874\n",
       " - Box-Cox: 85.4003\n",
       " - Center+scale: 86.7712\n",
       " - Double Reversed Log_b(x+a): 87.0054\n",
       " - Exp(x): 6307.5424\n",
       " - Log_b(x+a): 85.874\n",
       " - orderNorm (ORQ): 85.5455\n",
       " - sqrt(x + a): 85.518\n",
       " - Yeo-Johnson: 85.3961\n",
       "Estimation method: Out-of-sample via CV with 10 folds and 5 repeats\n",
       " \n",
       "Based off these, bestNormalize chose:\n",
       "Standardized Yeo-Johnson Transformation with 61215 nonmissing obs.:\n",
       " Estimated statistics:\n",
       " - lambda = -0.2096018 \n",
       " - mean (before standardization) = 2.828851 \n",
       " - sd (before standardization) = 0.06861115 \n",
       "\n",
       "$ap_hi\n",
       "Best Normalizing transformation with 61215 Observations\n",
       " Estimated Normality Statistics (Pearson P / df, lower => more normal):\n",
       " - arcsinh(x): 1520.179\n",
       " - Box-Cox: 1517.4\n",
       " - Center+scale: 1520.2026\n",
       " - Double Reversed Log_b(x+a): 1520.7054\n",
       " - Exp(x): 6211.4597\n",
       " - Log_b(x+a): 1520.179\n",
       " - orderNorm (ORQ): 1516.676\n",
       " - sqrt(x + a): 1520.1593\n",
       " - Yeo-Johnson: 1517.0176\n",
       "Estimation method: Out-of-sample via CV with 10 folds and 5 repeats\n",
       " \n",
       "Based off these, bestNormalize chose:\n",
       "orderNorm Transformation with 61215 nonmissing obs and ties\n",
       " - 75 unique values \n",
       " - Original quantiles:\n",
       "  0%  25%  50%  75% 100% \n",
       "  90  120  120  130  170 \n",
       "\n",
       "$ap_lo\n",
       "Best Normalizing transformation with 61215 Observations\n",
       " Estimated Normality Statistics (Pearson P / df, lower => more normal):\n",
       " - arcsinh(x): 2233.8174\n",
       " - Box-Cox: 2233.8698\n",
       " - Center+scale: 2233.8976\n",
       " - Double Reversed Log_b(x+a): 2234.0301\n",
       " - Exp(x): 5701.0802\n",
       " - Log_b(x+a): 2233.8174\n",
       " - orderNorm (ORQ): 2235.2521\n",
       " - sqrt(x + a): 2233.7887\n",
       " - Yeo-Johnson: 2233.8698\n",
       "Estimation method: Out-of-sample via CV with 10 folds and 5 repeats\n",
       " \n",
       "Based off these, bestNormalize chose:\n",
       "Standardized sqrt(x + a) Transformation with 61215 nonmissing obs.:\n",
       " Relevant statistics:\n",
       " - a = 0 \n",
       " - mean (before standardization) = 8.98601 \n",
       " - sd (before standardization) = 0.4493985 \n",
       "\n",
       "$IMC\n",
       "Best Normalizing transformation with 61215 Observations\n",
       " Estimated Normality Statistics (Pearson P / df, lower => more normal):\n",
       " - arcsinh(x): 8.9891\n",
       " - Box-Cox: 7.2174\n",
       " - Center+scale: 16.9955\n",
       " - Double Reversed Log_b(x+a): 41.4377\n",
       " - Exp(x): 5484.7044\n",
       " - Log_b(x+a): 9.0021\n",
       " - orderNorm (ORQ): 1.5193\n",
       " - sqrt(x + a): 12.4558\n",
       " - Yeo-Johnson: 7.1679\n",
       "Estimation method: Out-of-sample via CV with 10 folds and 5 repeats\n",
       " \n",
       "Based off these, bestNormalize chose:\n",
       "orderNorm Transformation with 61215 nonmissing obs and ties\n",
       " - 3024 unique values \n",
       " - Original quantiles:\n",
       "    0%    25%    50%    75%   100% \n",
       "14.527 23.809 26.122 29.688 42.134 \n",
       "\n",
       "$pulse\n",
       "Best Normalizing transformation with 61215 Observations\n",
       " Estimated Normality Statistics (Pearson P / df, lower => more normal):\n",
       " - arcsinh(x): 2132.3064\n",
       " - Box-Cox: 2134.7496\n",
       " - Center+scale: 2135.0829\n",
       " - Double Reversed Log_b(x+a): 2134.5584\n",
       " - Exp(x): 6306.0052\n",
       " - Log_b(x+a): 2132.2778\n",
       " - orderNorm (ORQ): 2131.4648\n",
       " - sqrt(x + a): 2135.0877\n",
       " - Yeo-Johnson: 2134.7496\n",
       "Estimation method: Out-of-sample via CV with 10 folds and 5 repeats\n",
       " \n",
       "Based off these, bestNormalize chose:\n",
       "orderNorm Transformation with 61215 nonmissing obs and ties\n",
       " - 80 unique values \n",
       " - Original quantiles:\n",
       "  0%  25%  50%  75% 100% \n",
       "  10   40   40   50  100 \n"
      ]
     },
     "metadata": {},
     "output_type": "display_data"
    }
   ],
   "source": [
    "lapply(data[,quantitative.cols], bestNormalize)"
   ]
  },
  {
   "cell_type": "code",
   "execution_count": 110,
   "metadata": {
    "vscode": {
     "languageId": "r"
    }
   },
   "outputs": [
    {
     "name": "stderr",
     "output_type": "stream",
     "text": [
      "Warning message in orderNorm(data[, col]):\n",
      "“Ties in data, Normal distribution not guaranteed\n",
      "”\n"
     ]
    },
    {
     "name": "stderr",
     "output_type": "stream",
     "text": [
      "Warning message in orderNorm(data[, col]):\n",
      "“Ties in data, Normal distribution not guaranteed\n",
      "”\n",
      "Warning message in orderNorm(data[, col]):\n",
      "“Ties in data, Normal distribution not guaranteed\n",
      "”\n",
      "Warning message in orderNorm(data[, col]):\n",
      "“Ties in data, Normal distribution not guaranteed\n",
      "”\n",
      "Warning message in orderNorm(data[, col]):\n",
      "“Ties in data, Normal distribution not guaranteed\n",
      "”\n",
      "Warning message in orderNorm(data[, col]):\n",
      "“Ties in data, Normal distribution not guaranteed\n",
      "”\n",
      "Warning message in orderNorm(data[, col]):\n",
      "“Ties in data, Normal distribution not guaranteed\n",
      "”\n"
     ]
    }
   ],
   "source": [
    "transform <-function(col){\n",
    "    orderNorm(data[,col])$x.t\n",
    "}\n",
    "\n",
    "normalized <- lapply(colnames(data[, quantitative.cols]), transform)"
   ]
  },
  {
   "cell_type": "code",
   "execution_count": 119,
   "metadata": {
    "vscode": {
     "languageId": "r"
    }
   },
   "outputs": [
    {
     "data": {
      "text/html": [
       "<table class=\"dataframe\">\n",
       "<caption>A data.frame: 6 × 7</caption>\n",
       "<thead>\n",
       "\t<tr><th></th><th scope=col>age_year</th><th scope=col>height</th><th scope=col>weight</th><th scope=col>ap_hi</th><th scope=col>ap_lo</th><th scope=col>IMC</th><th scope=col>pulse</th></tr>\n",
       "\t<tr><th></th><th scope=col>&lt;dbl&gt;</th><th scope=col>&lt;dbl&gt;</th><th scope=col>&lt;dbl&gt;</th><th scope=col>&lt;dbl&gt;</th><th scope=col>&lt;dbl&gt;</th><th scope=col>&lt;dbl&gt;</th><th scope=col>&lt;dbl&gt;</th></tr>\n",
       "</thead>\n",
       "<tbody>\n",
       "\t<tr><th scope=row>1</th><td>-0.4057892</td><td> 0.41887384</td><td>-0.8913307</td><td>-1.2311587</td><td>-0.07993353</td><td>-1.3301027</td><td>-1.6360867</td></tr>\n",
       "\t<tr><th scope=row>2</th><td> 0.1663161</td><td>-1.12195809</td><td> 0.9485029</td><td> 0.9672581</td><td> 1.02832263</td><td> 1.5384435</td><td> 0.6883186</td></tr>\n",
       "\t<tr><th scope=row>3</th><td>-0.3141891</td><td> 0.05229387</td><td>-0.7177043</td><td> 0.5243535</td><td>-1.25106063</td><td>-0.7747778</td><td> 1.3332830</td></tr>\n",
       "\t<tr><th scope=row>4</th><td>-0.6757626</td><td> 0.57095417</td><td> 0.7639328</td><td> 1.4449331</td><td> 1.96966384</td><td> 0.5130873</td><td> 0.6883186</td></tr>\n",
       "\t<tr><th scope=row>5</th><td>-0.7472900</td><td>-1.12195809</td><td>-1.5222658</td><td>-2.0530072</td><td>-2.29198696</td><td>-0.9727312</td><td>-0.3429522</td></tr>\n",
       "\t<tr><th scope=row>6</th><td> 0.9134493</td><td>-1.80144499</td><td>-0.4138947</td><td>-0.2475163</td><td>-0.07993353</td><td> 0.6209632</td><td>-0.3429522</td></tr>\n",
       "</tbody>\n",
       "</table>\n"
      ],
      "text/latex": [
       "A data.frame: 6 × 7\n",
       "\\begin{tabular}{r|lllllll}\n",
       "  & age\\_year & height & weight & ap\\_hi & ap\\_lo & IMC & pulse\\\\\n",
       "  & <dbl> & <dbl> & <dbl> & <dbl> & <dbl> & <dbl> & <dbl>\\\\\n",
       "\\hline\n",
       "\t1 & -0.4057892 &  0.41887384 & -0.8913307 & -1.2311587 & -0.07993353 & -1.3301027 & -1.6360867\\\\\n",
       "\t2 &  0.1663161 & -1.12195809 &  0.9485029 &  0.9672581 &  1.02832263 &  1.5384435 &  0.6883186\\\\\n",
       "\t3 & -0.3141891 &  0.05229387 & -0.7177043 &  0.5243535 & -1.25106063 & -0.7747778 &  1.3332830\\\\\n",
       "\t4 & -0.6757626 &  0.57095417 &  0.7639328 &  1.4449331 &  1.96966384 &  0.5130873 &  0.6883186\\\\\n",
       "\t5 & -0.7472900 & -1.12195809 & -1.5222658 & -2.0530072 & -2.29198696 & -0.9727312 & -0.3429522\\\\\n",
       "\t6 &  0.9134493 & -1.80144499 & -0.4138947 & -0.2475163 & -0.07993353 &  0.6209632 & -0.3429522\\\\\n",
       "\\end{tabular}\n"
      ],
      "text/markdown": [
       "\n",
       "A data.frame: 6 × 7\n",
       "\n",
       "| <!--/--> | age_year &lt;dbl&gt; | height &lt;dbl&gt; | weight &lt;dbl&gt; | ap_hi &lt;dbl&gt; | ap_lo &lt;dbl&gt; | IMC &lt;dbl&gt; | pulse &lt;dbl&gt; |\n",
       "|---|---|---|---|---|---|---|---|\n",
       "| 1 | -0.4057892 |  0.41887384 | -0.8913307 | -1.2311587 | -0.07993353 | -1.3301027 | -1.6360867 |\n",
       "| 2 |  0.1663161 | -1.12195809 |  0.9485029 |  0.9672581 |  1.02832263 |  1.5384435 |  0.6883186 |\n",
       "| 3 | -0.3141891 |  0.05229387 | -0.7177043 |  0.5243535 | -1.25106063 | -0.7747778 |  1.3332830 |\n",
       "| 4 | -0.6757626 |  0.57095417 |  0.7639328 |  1.4449331 |  1.96966384 |  0.5130873 |  0.6883186 |\n",
       "| 5 | -0.7472900 | -1.12195809 | -1.5222658 | -2.0530072 | -2.29198696 | -0.9727312 | -0.3429522 |\n",
       "| 6 |  0.9134493 | -1.80144499 | -0.4138947 | -0.2475163 | -0.07993353 |  0.6209632 | -0.3429522 |\n",
       "\n"
      ],
      "text/plain": [
       "  age_year   height      weight     ap_hi      ap_lo       IMC       \n",
       "1 -0.4057892  0.41887384 -0.8913307 -1.2311587 -0.07993353 -1.3301027\n",
       "2  0.1663161 -1.12195809  0.9485029  0.9672581  1.02832263  1.5384435\n",
       "3 -0.3141891  0.05229387 -0.7177043  0.5243535 -1.25106063 -0.7747778\n",
       "4 -0.6757626  0.57095417  0.7639328  1.4449331  1.96966384  0.5130873\n",
       "5 -0.7472900 -1.12195809 -1.5222658 -2.0530072 -2.29198696 -0.9727312\n",
       "6  0.9134493 -1.80144499 -0.4138947 -0.2475163 -0.07993353  0.6209632\n",
       "  pulse     \n",
       "1 -1.6360867\n",
       "2  0.6883186\n",
       "3  1.3332830\n",
       "4  0.6883186\n",
       "5 -0.3429522\n",
       "6 -0.3429522"
      ]
     },
     "metadata": {},
     "output_type": "display_data"
    }
   ],
   "source": [
    "normalized.df <- as.data.frame(normalized)\n",
    "colnames(normalized.df) <- colnames(data[,quantitative.cols])\n",
    "head(normalized.df)"
   ]
  },
  {
   "cell_type": "code",
   "execution_count": null,
   "metadata": {
    "vscode": {
     "languageId": "r"
    }
   },
   "outputs": [],
   "source": []
  },
  {
   "cell_type": "code",
   "execution_count": 121,
   "metadata": {
    "vscode": {
     "languageId": "r"
    }
   },
   "outputs": [],
   "source": [
    "plot_histograms <- function(column){\n",
    "    ggplot(normalized.df, aes(x=normalized.df[,column], fill=data$cardio)) + \n",
    "    geom_density(alpha=0.5) +\n",
    "    labs(x=column)\n",
    "}\n",
    "plots <- lapply(colnames(normalized.df), plot_histograms)\n",
    "\n",
    "plot.arrange <- ggarrange(plots[[1]],plots[[2]],plots[[3]],plots[[6]], plots[[4]],\n",
    "          plots[[5]],plots[[7]], nrow=2, ncol=4)\n",
    "\n",
    "ggsave(\"../docs/assests/plot_norm.png\",bg = \"white\", plot = plot.arrange, width = 15, height = 10)\n"
   ]
  },
  {
   "cell_type": "code",
   "execution_count": 125,
   "metadata": {
    "vscode": {
     "languageId": "r"
    }
   },
   "outputs": [
    {
     "data": {
      "text/html": [
       "<ol>\n",
       "\t<li><strong>pdf:</strong> 2</li>\n",
       "\t<li><strong>pdf:</strong> 2</li>\n",
       "\t<li><strong>pdf:</strong> 2</li>\n",
       "\t<li><strong>pdf:</strong> 2</li>\n",
       "\t<li><strong>pdf:</strong> 2</li>\n",
       "\t<li><strong>pdf:</strong> 2</li>\n",
       "\t<li><strong>pdf:</strong> 2</li>\n",
       "</ol>\n"
      ],
      "text/latex": [
       "\\begin{enumerate}\n",
       "\\item \\textbf{pdf:} 2\n",
       "\\item \\textbf{pdf:} 2\n",
       "\\item \\textbf{pdf:} 2\n",
       "\\item \\textbf{pdf:} 2\n",
       "\\item \\textbf{pdf:} 2\n",
       "\\item \\textbf{pdf:} 2\n",
       "\\item \\textbf{pdf:} 2\n",
       "\\end{enumerate}\n"
      ],
      "text/markdown": [
       "1. **pdf:** 2\n",
       "2. **pdf:** 2\n",
       "3. **pdf:** 2\n",
       "4. **pdf:** 2\n",
       "5. **pdf:** 2\n",
       "6. **pdf:** 2\n",
       "7. **pdf:** 2\n",
       "\n",
       "\n"
      ],
      "text/plain": [
       "[[1]]\n",
       "pdf \n",
       "  2 \n",
       "\n",
       "[[2]]\n",
       "pdf \n",
       "  2 \n",
       "\n",
       "[[3]]\n",
       "pdf \n",
       "  2 \n",
       "\n",
       "[[4]]\n",
       "pdf \n",
       "  2 \n",
       "\n",
       "[[5]]\n",
       "pdf \n",
       "  2 \n",
       "\n",
       "[[6]]\n",
       "pdf \n",
       "  2 \n",
       "\n",
       "[[7]]\n",
       "pdf \n",
       "  2 \n"
      ]
     },
     "metadata": {},
     "output_type": "display_data"
    }
   ],
   "source": [
    "plot_descdist <- function(colname){\n",
    "    png(paste(\"../docs/assests/\", colname, \"_cardio_yes_dists_norm.png\", sep=\"\"), bg = \"white\", width = 800, height = 600)\n",
    "    descdist(cardio.yes[, colname])\n",
    "    dev.off()\n",
    "}\n",
    "\n",
    "lapply(colnames(normalized.df[data$cardio == \"Yes\",]), plot_descdist)"
   ]
  },
  {
   "cell_type": "code",
   "execution_count": 126,
   "metadata": {
    "vscode": {
     "languageId": "r"
    }
   },
   "outputs": [
    {
     "data": {
      "text/html": [
       "<ol>\n",
       "\t<li><strong>pdf:</strong> 2</li>\n",
       "\t<li><strong>pdf:</strong> 2</li>\n",
       "\t<li><strong>pdf:</strong> 2</li>\n",
       "\t<li><strong>pdf:</strong> 2</li>\n",
       "\t<li><strong>pdf:</strong> 2</li>\n",
       "\t<li><strong>pdf:</strong> 2</li>\n",
       "\t<li><strong>pdf:</strong> 2</li>\n",
       "</ol>\n"
      ],
      "text/latex": [
       "\\begin{enumerate}\n",
       "\\item \\textbf{pdf:} 2\n",
       "\\item \\textbf{pdf:} 2\n",
       "\\item \\textbf{pdf:} 2\n",
       "\\item \\textbf{pdf:} 2\n",
       "\\item \\textbf{pdf:} 2\n",
       "\\item \\textbf{pdf:} 2\n",
       "\\item \\textbf{pdf:} 2\n",
       "\\end{enumerate}\n"
      ],
      "text/markdown": [
       "1. **pdf:** 2\n",
       "2. **pdf:** 2\n",
       "3. **pdf:** 2\n",
       "4. **pdf:** 2\n",
       "5. **pdf:** 2\n",
       "6. **pdf:** 2\n",
       "7. **pdf:** 2\n",
       "\n",
       "\n"
      ],
      "text/plain": [
       "[[1]]\n",
       "pdf \n",
       "  2 \n",
       "\n",
       "[[2]]\n",
       "pdf \n",
       "  2 \n",
       "\n",
       "[[3]]\n",
       "pdf \n",
       "  2 \n",
       "\n",
       "[[4]]\n",
       "pdf \n",
       "  2 \n",
       "\n",
       "[[5]]\n",
       "pdf \n",
       "  2 \n",
       "\n",
       "[[6]]\n",
       "pdf \n",
       "  2 \n",
       "\n",
       "[[7]]\n",
       "pdf \n",
       "  2 \n"
      ]
     },
     "metadata": {},
     "output_type": "display_data"
    }
   ],
   "source": [
    "plot_descdist <- function(colname){\n",
    "    png(paste(\"../docs/assests/\", colname, \"_cardio_no_dists_norm.png\", sep=\"\"), bg = \"white\", width = 800, height = 600)\n",
    "    descdist(cardio.yes[, colname])\n",
    "    dev.off()\n",
    "}\n",
    "lapply(colnames(normalized.df[data$cardio == \"No\",]), plot_descdist)"
   ]
  },
  {
   "cell_type": "code",
   "execution_count": 132,
   "metadata": {
    "vscode": {
     "languageId": "r"
    }
   },
   "outputs": [
    {
     "data": {
      "text/plain": [
       "\n",
       "\tLilliefors (Kolmogorov-Smirnov) normality test\n",
       "\n",
       "data:  normalized.df[data$cardio == \"Yes\", \"age_year\"]\n",
       "D = 0.0076844, p-value = 0.0003229\n"
      ]
     },
     "metadata": {},
     "output_type": "display_data"
    },
    {
     "data": {
      "text/plain": [
       "\n",
       "\tLilliefors (Kolmogorov-Smirnov) normality test\n",
       "\n",
       "data:  normalized.df[data$cardio == \"No\", \"age_year\"]\n",
       "D = 0.0079086, p-value = 0.0003162\n"
      ]
     },
     "metadata": {},
     "output_type": "display_data"
    },
    {
     "data": {
      "text/plain": [
       "\n",
       "\tLilliefors (Kolmogorov-Smirnov) normality test\n",
       "\n",
       "data:  normalized.df[data$cardio == \"Yes\", \"height\"]\n",
       "D = 0.041096, p-value < 2.2e-16\n"
      ]
     },
     "metadata": {},
     "output_type": "display_data"
    },
    {
     "data": {
      "text/plain": [
       "\n",
       "\tLilliefors (Kolmogorov-Smirnov) normality test\n",
       "\n",
       "data:  normalized.df[data$cardio == \"No\", \"height\"]\n",
       "D = 0.046406, p-value < 2.2e-16\n"
      ]
     },
     "metadata": {},
     "output_type": "display_data"
    },
    {
     "data": {
      "text/plain": [
       "\n",
       "\tLilliefors (Kolmogorov-Smirnov) normality test\n",
       "\n",
       "data:  normalized.df[data$cardio == \"Yes\", \"weight\"]\n",
       "D = 0.028629, p-value < 2.2e-16\n"
      ]
     },
     "metadata": {},
     "output_type": "display_data"
    },
    {
     "data": {
      "text/plain": [
       "\n",
       "\tLilliefors (Kolmogorov-Smirnov) normality test\n",
       "\n",
       "data:  normalized.df[data$cardio == \"No\", \"weight\"]\n",
       "D = 0.038379, p-value < 2.2e-16\n"
      ]
     },
     "metadata": {},
     "output_type": "display_data"
    },
    {
     "data": {
      "text/plain": [
       "\n",
       "\tLilliefors (Kolmogorov-Smirnov) normality test\n",
       "\n",
       "data:  normalized.df[data$cardio == \"Yes\", \"ap_hi\"]\n",
       "D = 0.17317, p-value < 2.2e-16\n"
      ]
     },
     "metadata": {},
     "output_type": "display_data"
    },
    {
     "data": {
      "text/plain": [
       "\n",
       "\tLilliefors (Kolmogorov-Smirnov) normality test\n",
       "\n",
       "data:  normalized.df[data$cardio == \"No\", \"ap_hi\"]\n",
       "D = 0.35255, p-value < 2.2e-16\n"
      ]
     },
     "metadata": {},
     "output_type": "display_data"
    },
    {
     "data": {
      "text/plain": [
       "\n",
       "\tLilliefors (Kolmogorov-Smirnov) normality test\n",
       "\n",
       "data:  normalized.df[data$cardio == \"Yes\", \"ap_lo\"]\n",
       "D = 0.26263, p-value < 2.2e-16\n"
      ]
     },
     "metadata": {},
     "output_type": "display_data"
    },
    {
     "data": {
      "text/plain": [
       "\n",
       "\tLilliefors (Kolmogorov-Smirnov) normality test\n",
       "\n",
       "data:  normalized.df[data$cardio == \"No\", \"ap_lo\"]\n",
       "D = 0.36741, p-value < 2.2e-16\n"
      ]
     },
     "metadata": {},
     "output_type": "display_data"
    },
    {
     "data": {
      "text/plain": [
       "\n",
       "\tLilliefors (Kolmogorov-Smirnov) normality test\n",
       "\n",
       "data:  normalized.df[data$cardio == \"Yes\", \"IMC\"]\n",
       "D = 0.0079905, p-value = 0.000143\n"
      ]
     },
     "metadata": {},
     "output_type": "display_data"
    },
    {
     "data": {
      "text/plain": [
       "\n",
       "\tLilliefors (Kolmogorov-Smirnov) normality test\n",
       "\n",
       "data:  normalized.df[data$cardio == \"No\", \"IMC\"]\n",
       "D = 0.013979, p-value = 5.84e-14\n"
      ]
     },
     "metadata": {},
     "output_type": "display_data"
    },
    {
     "data": {
      "text/plain": [
       "\n",
       "\tLilliefors (Kolmogorov-Smirnov) normality test\n",
       "\n",
       "data:  normalized.df[data$cardio == \"Yes\", \"pulse\"]\n",
       "D = 0.22389, p-value < 2.2e-16\n"
      ]
     },
     "metadata": {},
     "output_type": "display_data"
    },
    {
     "data": {
      "text/plain": [
       "\n",
       "\tLilliefors (Kolmogorov-Smirnov) normality test\n",
       "\n",
       "data:  normalized.df[data$cardio == \"No\", \"pulse\"]\n",
       "D = 0.36725, p-value < 2.2e-16\n"
      ]
     },
     "metadata": {},
     "output_type": "display_data"
    }
   ],
   "source": [
    "lillie.test(normalized.df[data$cardio == \"Yes\", \"age_year\"])\n",
    "lillie.test(normalized.df[data$cardio == \"No\", \"age_year\"])\n",
    "lillie.test(normalized.df[data$cardio == \"Yes\", \"height\"])\n",
    "lillie.test(normalized.df[data$cardio == \"No\", \"height\"])\n",
    "lillie.test(normalized.df[data$cardio == \"Yes\", \"weight\"])\n",
    "lillie.test(normalized.df[data$cardio == \"No\", \"weight\"])\n",
    "lillie.test(normalized.df[data$cardio == \"Yes\", \"ap_hi\"])\n",
    "lillie.test(normalized.df[data$cardio == \"No\", \"ap_hi\"])\n",
    "lillie.test(normalized.df[data$cardio == \"Yes\", \"ap_lo\"])\n",
    "lillie.test(normalized.df[data$cardio == \"No\", \"ap_lo\"])\n",
    "lillie.test(normalized.df[data$cardio == \"Yes\", \"IMC\"])\n",
    "lillie.test(normalized.df[data$cardio == \"No\", \"IMC\"])\n",
    "lillie.test(normalized.df[data$cardio == \"Yes\", \"pulse\"])\n",
    "lillie.test(normalized.df[data$cardio == \"No\", \"pulse\"])"
   ]
  },
  {
   "cell_type": "code",
   "execution_count": null,
   "metadata": {
    "vscode": {
     "languageId": "r"
    }
   },
   "outputs": [],
   "source": [
    "lillie.test(normalized.df$age_year)"
   ]
  },
  {
   "cell_type": "code",
   "execution_count": 135,
   "metadata": {
    "vscode": {
     "languageId": "r"
    }
   },
   "outputs": [
    {
     "data": {
      "text/plain": [
       "\n",
       "\tPearson's Chi-squared test\n",
       "\n",
       "data:  data$cardio and data$cholesterol\n",
       "X-squared = 3755.2, df = 2, p-value < 2.2e-16\n"
      ]
     },
     "metadata": {},
     "output_type": "display_data"
    }
   ],
   "source": [
    "chisq.test(x = data$cardio, y=data$cholesterol)"
   ]
  },
  {
   "cell_type": "code",
   "execution_count": 137,
   "metadata": {
    "vscode": {
     "languageId": "r"
    }
   },
   "outputs": [
    {
     "data": {
      "text/plain": [
       "\n",
       "\tPearson's Chi-squared test with Yates' continuity correction\n",
       "\n",
       "data:  data$cardio and data$smoke\n",
       "X-squared = 23.456, df = 1, p-value = 1.278e-06\n"
      ]
     },
     "metadata": {},
     "output_type": "display_data"
    }
   ],
   "source": [
    "chisq.test(x = data$cardio, y=data$smoke)"
   ]
  },
  {
   "cell_type": "code",
   "execution_count": 146,
   "metadata": {
    "vscode": {
     "languageId": "r"
    }
   },
   "outputs": [
    {
     "data": {
      "text/plain": [
       "      smoke\n",
       "cardio    No   Yes\n",
       "   No  26946  2796\n",
       "   Yes 28865  2608"
      ]
     },
     "metadata": {},
     "output_type": "display_data"
    }
   ],
   "source": [
    "table(data[, c(\"cardio\", \"smoke\")])"
   ]
  },
  {
   "cell_type": "code",
   "execution_count": null,
   "metadata": {
    "vscode": {
     "languageId": "r"
    }
   },
   "outputs": [],
   "source": []
  }
 ],
 "metadata": {
  "kernelspec": {
   "display_name": "R",
   "language": "R",
   "name": "ir"
  },
  "language_info": {
   "codemirror_mode": "r",
   "file_extension": ".r",
   "mimetype": "text/x-r-source",
   "name": "R",
   "pygments_lexer": "r",
   "version": "4.4.1"
  }
 },
 "nbformat": 4,
 "nbformat_minor": 2
}
