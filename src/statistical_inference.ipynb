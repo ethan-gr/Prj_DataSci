{
 "cells": [
  {
   "cell_type": "markdown",
   "metadata": {},
   "source": [
    "# Statistical Inference"
   ]
  },
  {
   "cell_type": "markdown",
   "metadata": {},
   "source": [
    "## Setup"
   ]
  },
  {
   "cell_type": "code",
   "execution_count": 1,
   "metadata": {
    "vscode": {
     "languageId": "r"
    }
   },
   "outputs": [
    {
     "name": "stderr",
     "output_type": "stream",
     "text": [
      "Loading required package: MASS\n",
      "\n",
      "Loading required package: survival\n",
      "\n",
      "Loading required package: carData\n",
      "\n"
     ]
    }
   ],
   "source": [
    "# Load libraries\n",
    "library(ggplot2)\n",
    "library(ggpubr)\n",
    "library(fitdistrplus)\n",
    "library(nortest)\n",
    "library(car)"
   ]
  },
  {
   "cell_type": "code",
   "execution_count": 2,
   "metadata": {
    "vscode": {
     "languageId": "r"
    }
   },
   "outputs": [
    {
     "data": {
      "text/html": [
       "'The dataset has 14 features for 67240 patients.'"
      ],
      "text/latex": [
       "'The dataset has 14 features for 67240 patients.'"
      ],
      "text/markdown": [
       "'The dataset has 14 features for 67240 patients.'"
      ],
      "text/plain": [
       "[1] \"The dataset has 14 features for 67240 patients.\""
      ]
     },
     "metadata": {},
     "output_type": "display_data"
    }
   ],
   "source": [
    "# Load dataset\n",
    "data <- read.csv(\"../results/cardiovascular_disease_clean.csv\", \n",
    "                colClasses = c(\"numeric\", \"factor\", \"integer\", \"numeric\", \"integer\", \"integer\", \"factor\", \"factor\", \"factor\", \"factor\", \"factor\", \"factor\", \"numeric\", \"numeric\"),\n",
    "                col.names=c(\"Age(years)\", \"Gender\", \"Height(cm)\", \"Weight(kg)\", \"SystolicPressure\", \"DiastolicPressure\", \"Cholesterol\", \"Glucose\", \"Smoke\", \"Alcohol\", \"Active\", \"CardiovascularDisease\", \"BMI\", \"Pulse\"))\n",
    "numeric.cols <- c(1, 3, 4, 5, 6, 13, 14)\n",
    "paste(\"The dataset has\", dim(data)[2], \"features for\", dim(data)[1], \"patients.\")"
   ]
  },
  {
   "cell_type": "markdown",
   "metadata": {},
   "source": [
    "## Check data distributions"
   ]
  },
  {
   "cell_type": "code",
   "execution_count": 3,
   "metadata": {
    "vscode": {
     "languageId": "r"
    }
   },
   "outputs": [],
   "source": [
    "# Function to get kernel density plots\n",
    "plot_density <- function(column){\n",
    "    ggplot(data, aes(x=data[,column], fill=CardiovascularDisease)) + \n",
    "    scale_fill_manual(values=c(No=\"cyan3\", Yes=\"salmon\")) +\n",
    "    geom_density(alpha=0.5) +\n",
    "    labs(x=column) +\n",
    "    theme(axis.text=element_text(size=15), \n",
    "    axis.title.x = element_text(size = 20), \n",
    "    axis.title.y = element_text(size = 20),\n",
    "    legend.title = element_text(size = 20), \n",
    "    legend.text = element_text(size = 20)) \n",
    "}\n",
    "\n",
    "# Plot histogram for each numeric column\n",
    "plots <- lapply(colnames(data[, numeric.cols]), plot_density)\n",
    "\n",
    "# Save\n",
    "plot.arrange <- ggarrange(plots[[1]],plots[[2]],plots[[3]],plots[[6]], plots[[4]],\n",
    "          plots[[5]],plots[[7]], nrow=3, ncol=3)\n",
    "\n",
    "ggsave(\"../docs/assests/numeric_cols_kde.png\",bg = \"white\", plot = plot.arrange, width = 35, height = 15)\n"
   ]
  },
  {
   "cell_type": "markdown",
   "metadata": {},
   "source": [
    "### Kernel density plots for numeric variables\n",
    "![](../docs/assests/numeric_cols_kde.png)"
   ]
  },
  {
   "cell_type": "markdown",
   "metadata": {},
   "source": [
    "The kernel density plots show that the numeric columns do not follow a normal distribution. Indeed, the blood pressure data do not seem to be continuous; instead, they appear to be discrete. For that reason, from now we will handle these variables as discrete. "
   ]
  },
  {
   "cell_type": "code",
   "execution_count": 4,
   "metadata": {
    "vscode": {
     "languageId": "r"
    }
   },
   "outputs": [],
   "source": [
    "# Update numerical columns\n",
    "numeric.cols <- c(1,3,4,13)\n",
    "\n",
    "# Transform pressure variables in 10 sized intervals\n",
    "data$SystolicPressure <- as.factor(round(data$SystolicPressure / 10) * 10)\n",
    "data$DiastolicPressure <- as.factor(round(data$DiastolicPressure / 10) * 10)\n",
    "data$Pulse <- as.factor(round(data$Pulse / 10) * 10)\n",
    "\n",
    "plot_histogram <- function(column){\n",
    "    ggplot(data, aes(x = data[,column], fill=CardiovascularDisease)) +\n",
    "        scale_fill_manual(values=c(No=\"cyan3\", Yes=\"salmon\")) +\n",
    "        geom_bar(position=\"dodge\") +\n",
    "        labs(x=column) +\n",
    "        theme(axis.text=element_text(size=15), \n",
    "        axis.title.x = element_text(size = 20), \n",
    "        axis.title.y = element_text(size = 20),\n",
    "        legend.title = element_text(size = 20), \n",
    "        legend.text = element_text(size = 20))\n",
    "}\n",
    "\n",
    "plots <- lapply(c(\"SystolicPressure\", \"DiastolicPressure\", \"Pulse\"), plot_histogram)\n",
    "plot.arrange <- ggarrange(plots[[1]],plots[[2]],plots[[3]], nrow=1, ncol=3)\n",
    "ggsave(\"../docs/assests/categorical_cols_hist.png\",bg = \"white\", plot = plot.arrange, width = 30, height = 10)\n"
   ]
  },
  {
   "cell_type": "markdown",
   "metadata": {
    "vscode": {
     "languageId": "r"
    }
   },
   "source": [
    "### Histograms for categorical pressure variables\n",
    "![](../docs/assests/categorical_cols_hist.png)"
   ]
  },
  {
   "cell_type": "markdown",
   "metadata": {},
   "source": [
    "Interestingly, the divergence between the plots of healthy and diseased patients in both the numerical and categorical variables, suggests that there might be a statistical association between these variables and cardiovascular disease. In the following sections, we will test these hypotheses."
   ]
  },
  {
   "cell_type": "markdown",
   "metadata": {},
   "source": [
    "## Normality tests"
   ]
  },
  {
   "cell_type": "markdown",
   "metadata": {
    "vscode": {
     "languageId": "r"
    }
   },
   "source": [
    "For each numeric variable, we present a graphical representation of its distribution, the results of the Kolmogorov-Smirnov normality test, as well as the results of the Fligner-Killeen test of homogeneity of variances. Given that we empirically observed differences between healthy and diseased patients, we decided to test for normality in each group separately."
   ]
  },
  {
   "cell_type": "code",
   "execution_count": 5,
   "metadata": {
    "vscode": {
     "languageId": "r"
    }
   },
   "outputs": [
    {
     "data": {
      "text/html": [
       "<ol>\n",
       "\t<li><strong>pdf:</strong> 2</li>\n",
       "\t<li><strong>pdf:</strong> 2</li>\n",
       "\t<li><strong>pdf:</strong> 2</li>\n",
       "\t<li><strong>pdf:</strong> 2</li>\n",
       "</ol>\n"
      ],
      "text/latex": [
       "\\begin{enumerate}\n",
       "\\item \\textbf{pdf:} 2\n",
       "\\item \\textbf{pdf:} 2\n",
       "\\item \\textbf{pdf:} 2\n",
       "\\item \\textbf{pdf:} 2\n",
       "\\end{enumerate}\n"
      ],
      "text/markdown": [
       "1. **pdf:** 2\n",
       "2. **pdf:** 2\n",
       "3. **pdf:** 2\n",
       "4. **pdf:** 2\n",
       "\n",
       "\n"
      ],
      "text/plain": [
       "[[1]]\n",
       "pdf \n",
       "  2 \n",
       "\n",
       "[[2]]\n",
       "pdf \n",
       "  2 \n",
       "\n",
       "[[3]]\n",
       "pdf \n",
       "  2 \n",
       "\n",
       "[[4]]\n",
       "pdf \n",
       "  2 \n"
      ]
     },
     "metadata": {},
     "output_type": "display_data"
    },
    {
     "data": {
      "text/html": [
       "<ol>\n",
       "\t<li><strong>pdf:</strong> 2</li>\n",
       "\t<li><strong>pdf:</strong> 2</li>\n",
       "\t<li><strong>pdf:</strong> 2</li>\n",
       "\t<li><strong>pdf:</strong> 2</li>\n",
       "</ol>\n"
      ],
      "text/latex": [
       "\\begin{enumerate}\n",
       "\\item \\textbf{pdf:} 2\n",
       "\\item \\textbf{pdf:} 2\n",
       "\\item \\textbf{pdf:} 2\n",
       "\\item \\textbf{pdf:} 2\n",
       "\\end{enumerate}\n"
      ],
      "text/markdown": [
       "1. **pdf:** 2\n",
       "2. **pdf:** 2\n",
       "3. **pdf:** 2\n",
       "4. **pdf:** 2\n",
       "\n",
       "\n"
      ],
      "text/plain": [
       "[[1]]\n",
       "pdf \n",
       "  2 \n",
       "\n",
       "[[2]]\n",
       "pdf \n",
       "  2 \n",
       "\n",
       "[[3]]\n",
       "pdf \n",
       "  2 \n",
       "\n",
       "[[4]]\n",
       "pdf \n",
       "  2 \n"
      ]
     },
     "metadata": {},
     "output_type": "display_data"
    }
   ],
   "source": [
    "# Get Cullen and Frey graphs\n",
    "plot_descdist <- function(colname, cardio=\"Yes\"){\n",
    "    png(paste(\"../docs/assests/\", colname, \"_cardio_\", cardio,\"_dists.png\", sep=\"\"), bg = \"white\", width = 900, height = 700)\n",
    "    descdist(data[data$CardiovascularDisease == cardio, colname])\n",
    "    dev.off()\n",
    "}\n",
    "\n",
    "lapply(colnames(data[, numeric.cols]), plot_descdist, cardio=\"Yes\")\n",
    "lapply(colnames(data[, numeric.cols]), plot_descdist, cardio=\"No\")"
   ]
  },
  {
   "cell_type": "markdown",
   "metadata": {},
   "source": [
    "### Cullen and Frey graph for Age(years)\n",
    " <div style=\"display: flex; justify-content: space-around; align-items: center\">\n",
    "  <figure style=\"text-align: center;\">\n",
    "    <img src=\"../docs/assests/Age.years._cardio_No_dists.png\" alt=\"Healthy\" width=\"100%\">\n",
    "    <figcaption>Healthy</figcaption>\n",
    "  </figure>\n",
    "  <figure style=\"text-align: center;\">\n",
    "    <img src=\"../docs/assests/Age.years._cardio_Yes_dists.png\" alt=\"Cadiovascular disease\" width=\"100%\">\n",
    "    <figcaption>Cardiovascular disease</figcaption>\n",
    "  </figure>\n",
    "</div>"
   ]
  },
  {
   "cell_type": "code",
   "execution_count": 6,
   "metadata": {
    "vscode": {
     "languageId": "r"
    }
   },
   "outputs": [
    {
     "data": {
      "text/plain": [
       "\n",
       "\tLilliefors (Kolmogorov-Smirnov) normality test\n",
       "\n",
       "data:  data[data$CardiovascularDisease == \"No\", \"Age.years.\"]\n",
       "D = 0.059064, p-value < 2.2e-16\n"
      ]
     },
     "metadata": {},
     "output_type": "display_data"
    },
    {
     "data": {
      "text/plain": [
       "\n",
       "\tLilliefors (Kolmogorov-Smirnov) normality test\n",
       "\n",
       "data:  data[data$CardiovascularDisease == \"Yes\", \"Age.years.\"]\n",
       "D = 0.071113, p-value < 2.2e-16\n"
      ]
     },
     "metadata": {},
     "output_type": "display_data"
    }
   ],
   "source": [
    "# Kolmogorov-Smirnov normality test\n",
    "lillie.test(data[data$CardiovascularDisease == \"No\", \"Age.years.\"])\n",
    "lillie.test(data[data$CardiovascularDisease == \"Yes\", \"Age.years.\"])"
   ]
  },
  {
   "cell_type": "code",
   "execution_count": 7,
   "metadata": {
    "vscode": {
     "languageId": "r"
    }
   },
   "outputs": [
    {
     "data": {
      "text/plain": [
       "\n",
       "\tFligner-Killeen test of homogeneity of variances\n",
       "\n",
       "data:  data$Age.years. and data$CardiovascularDisease\n",
       "Fligner-Killeen:med chi-squared = 171.97, df = 1, p-value < 2.2e-16\n"
      ]
     },
     "metadata": {},
     "output_type": "display_data"
    }
   ],
   "source": [
    "# Fligner-Killeen test of homogeneity of variances\n",
    "fligner.test(data$Age.years., data$CardiovascularDisease)"
   ]
  },
  {
   "cell_type": "markdown",
   "metadata": {},
   "source": [
    "### Cullen and Frey graph for Height(cm)\n",
    " <div style=\"display: flex; justify-content: space-around; align-items: center\">\n",
    "  <figure style=\"text-align: center;\">\n",
    "    <img src=\"../docs/assests/Height.cm._cardio_No_dists.png\" alt=\"Healthy\" width=\"100%\">\n",
    "    <figcaption>Healthy</figcaption>\n",
    "  </figure>\n",
    "  <figure style=\"text-align: center;\">\n",
    "    <img src=\"../docs/assests/Height.cm._cardio_Yes_dists.png\" alt=\"Cadiovascular disease\" width=\"100%\">\n",
    "    <figcaption>Cardiovascular disease</figcaption>\n",
    "  </figure>\n",
    "</div>"
   ]
  },
  {
   "cell_type": "code",
   "execution_count": 8,
   "metadata": {
    "vscode": {
     "languageId": "r"
    }
   },
   "outputs": [
    {
     "data": {
      "text/plain": [
       "\n",
       "\tLilliefors (Kolmogorov-Smirnov) normality test\n",
       "\n",
       "data:  data[data$CardiovascularDisease == \"No\", \"Height.cm.\"]\n",
       "D = 0.05194, p-value < 2.2e-16\n"
      ]
     },
     "metadata": {},
     "output_type": "display_data"
    },
    {
     "data": {
      "text/plain": [
       "\n",
       "\tLilliefors (Kolmogorov-Smirnov) normality test\n",
       "\n",
       "data:  data[data$CardiovascularDisease == \"Yes\", \"Height.cm.\"]\n",
       "D = 0.049813, p-value < 2.2e-16\n"
      ]
     },
     "metadata": {},
     "output_type": "display_data"
    }
   ],
   "source": [
    "# Kolmogorov-Smirnov normality test\n",
    "lillie.test(data[data$CardiovascularDisease == \"No\", \"Height.cm.\"])\n",
    "lillie.test(data[data$CardiovascularDisease == \"Yes\", \"Height.cm.\"])"
   ]
  },
  {
   "cell_type": "code",
   "execution_count": 9,
   "metadata": {
    "vscode": {
     "languageId": "r"
    }
   },
   "outputs": [
    {
     "data": {
      "text/plain": [
       "\n",
       "\tFligner-Killeen test of homogeneity of variances\n",
       "\n",
       "data:  data$Height.cm. and data$CardiovascularDisease\n",
       "Fligner-Killeen:med chi-squared = 26.126, df = 1, p-value = 3.199e-07\n"
      ]
     },
     "metadata": {},
     "output_type": "display_data"
    }
   ],
   "source": [
    "# Fligner-Killeen test of homogeneity of variances\n",
    "fligner.test(data$Height.cm., data$CardiovascularDisease)"
   ]
  },
  {
   "cell_type": "markdown",
   "metadata": {},
   "source": [
    "### Cullen and Frey graph for Weight(kg)\n",
    " <div style=\"display: flex; justify-content: space-around; align-items: center\">\n",
    "  <figure style=\"text-align: center;\">\n",
    "    <img src=\"../docs/assests/Weight.kg._cardio_No_dists.png\" alt=\"Healthy\" width=\"100%\">\n",
    "    <figcaption>Healthy</figcaption>\n",
    "  </figure>\n",
    "  <figure style=\"text-align: center;\">\n",
    "    <img src=\"../docs/assests/Weight.kg._cardio_Yes_dists.png\" alt=\"Cadiovascular disease\" width=\"100%\">\n",
    "    <figcaption>Cardiovascular disease</figcaption>\n",
    "  </figure>\n",
    "</div>"
   ]
  },
  {
   "cell_type": "code",
   "execution_count": 10,
   "metadata": {
    "vscode": {
     "languageId": "r"
    }
   },
   "outputs": [
    {
     "data": {
      "text/plain": [
       "\n",
       "\tLilliefors (Kolmogorov-Smirnov) normality test\n",
       "\n",
       "data:  data[data$CardiovascularDisease == \"No\", \"Weight.kg.\"]\n",
       "D = 0.083471, p-value < 2.2e-16\n"
      ]
     },
     "metadata": {},
     "output_type": "display_data"
    },
    {
     "data": {
      "text/plain": [
       "\n",
       "\tLilliefors (Kolmogorov-Smirnov) normality test\n",
       "\n",
       "data:  data[data$CardiovascularDisease == \"Yes\", \"Weight.kg.\"]\n",
       "D = 0.070426, p-value < 2.2e-16\n"
      ]
     },
     "metadata": {},
     "output_type": "display_data"
    }
   ],
   "source": [
    "# Kolmogorov-Smirnov normality test\n",
    "lillie.test(data[data$CardiovascularDisease == \"No\", \"Weight.kg.\"])\n",
    "lillie.test(data[data$CardiovascularDisease == \"Yes\", \"Weight.kg.\"])"
   ]
  },
  {
   "cell_type": "code",
   "execution_count": 11,
   "metadata": {
    "vscode": {
     "languageId": "r"
    }
   },
   "outputs": [
    {
     "data": {
      "text/plain": [
       "\n",
       "\tFligner-Killeen test of homogeneity of variances\n",
       "\n",
       "data:  data$Weight.kg. and data$CardiovascularDisease\n",
       "Fligner-Killeen:med chi-squared = 322.56, df = 1, p-value < 2.2e-16\n"
      ]
     },
     "metadata": {},
     "output_type": "display_data"
    }
   ],
   "source": [
    "# Fligner-Killeen test of homogeneity of variances\n",
    "fligner.test(data$Weight.kg., data$CardiovascularDisease)"
   ]
  },
  {
   "cell_type": "markdown",
   "metadata": {},
   "source": [
    "### Cullen and Frey graph for BMI\n",
    " <div style=\"display: flex; justify-content: space-around; align-items: center\">\n",
    "  <figure style=\"text-align: center;\">\n",
    "    <img src=\"../docs/assests/BMI_cardio_No_dists.png\" alt=\"Healthy\" width=\"100%\">\n",
    "    <figcaption>Healthy</figcaption>\n",
    "  </figure>\n",
    "  <figure style=\"text-align: center;\">\n",
    "    <img src=\"../docs/assests/BMI_cardio_Yes_dists.png\" alt=\"Cadiovascular disease\" width=\"100%\">\n",
    "    <figcaption>Cardiovascular disease</figcaption>\n",
    "  </figure>\n",
    "</div>"
   ]
  },
  {
   "cell_type": "code",
   "execution_count": 12,
   "metadata": {
    "vscode": {
     "languageId": "r"
    }
   },
   "outputs": [
    {
     "data": {
      "text/plain": [
       "\n",
       "\tLilliefors (Kolmogorov-Smirnov) normality test\n",
       "\n",
       "data:  data[data$CardiovascularDisease == \"No\", \"BMI\"]\n",
       "D = 0.08471, p-value < 2.2e-16\n"
      ]
     },
     "metadata": {},
     "output_type": "display_data"
    },
    {
     "data": {
      "text/plain": [
       "\n",
       "\tLilliefors (Kolmogorov-Smirnov) normality test\n",
       "\n",
       "data:  data[data$CardiovascularDisease == \"Yes\", \"BMI\"]\n",
       "D = 0.070455, p-value < 2.2e-16\n"
      ]
     },
     "metadata": {},
     "output_type": "display_data"
    }
   ],
   "source": [
    "# Kolmogorov-Smirnov normality test\n",
    "lillie.test(data[data$CardiovascularDisease == \"No\", \"BMI\"])\n",
    "lillie.test(data[data$CardiovascularDisease == \"Yes\", \"BMI\"])"
   ]
  },
  {
   "cell_type": "code",
   "execution_count": 13,
   "metadata": {
    "vscode": {
     "languageId": "r"
    }
   },
   "outputs": [
    {
     "data": {
      "text/plain": [
       "\n",
       "\tFligner-Killeen test of homogeneity of variances\n",
       "\n",
       "data:  data$BMI and data$CardiovascularDisease\n",
       "Fligner-Killeen:med chi-squared = 561.39, df = 1, p-value < 2.2e-16\n"
      ]
     },
     "metadata": {},
     "output_type": "display_data"
    }
   ],
   "source": [
    "# Fligner-Killeen test of homogeneity of variances\n",
    "fligner.test(data$BMI, data$CardiovascularDisease)"
   ]
  },
  {
   "cell_type": "markdown",
   "metadata": {},
   "source": [
    "The results of the Kolmogorov-Smirnov test confirm that none of our numerical variables follow a normal distribution. In addition, the Fligner-Killeen test shows that there are differences in the variances of the variables between the healthy and diseased patients. Therefore, to test for the statistical differences in the median, we will employ the non-paramtric Wilcoxon Rank Sum Test."
   ]
  },
  {
   "cell_type": "markdown",
   "metadata": {},
   "source": [
    "## Statistical test for numerical variables"
   ]
  },
  {
   "cell_type": "markdown",
   "metadata": {},
   "source": [
    "To test the hypotheses that the patients with cardiovascular disease have greater age, weight and BMI than the healthy patients we used the Wilcoxon Rank Sum Test with alternative = \"greater\". "
   ]
  },
  {
   "cell_type": "code",
   "execution_count": 14,
   "metadata": {
    "vscode": {
     "languageId": "r"
    }
   },
   "outputs": [],
   "source": [
    "# Function to get boxplots\n",
    "get_boxplot <- function(column){\n",
    "    wilcoxon = wilcox.test(x=data[data$CardiovascularDisease == \"Yes\", column],\n",
    "                           y=data[data$CardiovascularDisease == \"No\", column],\n",
    "                           alternative = \"greater\")\n",
    "    ggplot(data, aes(x = CardiovascularDisease, y=data[,column], fill=CardiovascularDisease)) +\n",
    "     geom_violin(color=NA) +\n",
    "     geom_boxplot(fill=\"white\", width=0.1) +\n",
    "     labs(x=\"Cardiovascular Condition\", y=column) +\n",
    "    theme(axis.text=element_text(size=15), \n",
    "        axis.title.x = element_text(size = 20), \n",
    "        axis.title.y = element_text(size = 20),\n",
    "        legend.title = element_text(size = 20), \n",
    "        legend.text = element_text(size = 20)) +\n",
    "    geom_text(x = 0.9, y = max(data[data$CardiovascularDisease == \"No\", column]), \n",
    "              label = paste(\"p-value =\", round(wilcoxon$p.value, 4)), color = \"black\", size = 10) +\n",
    "    scale_fill_manual(values = c(Yes=\"salmon\", No=\"cyan3\"))\n",
    "}\n",
    "\n",
    "# Plot histogram for each numeric column\n",
    "plots <- lapply(colnames(data[, numeric.cols]), get_boxplot)\n",
    "\n",
    "# Save\n",
    "plot.arrange <- ggarrange(plots[[1]],plots[[2]],plots[[3]],plots[[4]], nrow=2, ncol=2)\n",
    "\n",
    "ggsave(\"../docs/assests/numeric_cols_boxplots.png\",bg = \"white\", plot = plot.arrange, width = 30, height = 20)\n"
   ]
  },
  {
   "cell_type": "markdown",
   "metadata": {},
   "source": [
    "### Distribution comparisons for numeric variables\n",
    "![](../docs/assests/numeric_cols_boxplots.png)"
   ]
  },
  {
   "cell_type": "markdown",
   "metadata": {},
   "source": [
    "The p-values displayed in the boxplots are rounded to four decimals. For the variables Age, Weight and BMI, the p-values are so small that thery are virtually 0. Thus, the differences observed in the medians are statistically significant. "
   ]
  },
  {
   "cell_type": "markdown",
   "metadata": {},
   "source": [
    "## Statistical tests for categorical variables"
   ]
  },
  {
   "cell_type": "markdown",
   "metadata": {
    "vscode": {
     "languageId": "r"
    }
   },
   "source": [
    "Besides the numerical variables, the dataset contains 9 catagorical features: Gender. Cholesterol, Glucose, Smoke, Alcohol, Active, and the three blood pressure related variables discussed above, Systolic Pressure, Disatolic Pressure and Pulse.\n",
    "To test if each of these categorical variables is independent of the cardiovascular condition of the patient, we apply the Chi-square test."
   ]
  },
  {
   "cell_type": "code",
   "execution_count": 15,
   "metadata": {
    "vscode": {
     "languageId": "r"
    }
   },
   "outputs": [
    {
     "name": "stderr",
     "output_type": "stream",
     "text": [
      "Warning message in chisq.test(x = data[, column], y = data$CardiovascularDisease):\n",
      "“Chi-squared approximation may be incorrect”\n",
      "Warning message in chisq.test(x = data[, column], y = data$CardiovascularDisease):\n",
      "“Chi-squared approximation may be incorrect”\n"
     ]
    }
   ],
   "source": [
    "get_barplot <- function(column){\n",
    "    chi.sq = chisq.test(x = data[, column], y=data$CardiovascularDisease)\n",
    "    ggplot(data, aes(x = CardiovascularDisease,y = after_stat(count), fill=data[,column])) +\n",
    "     geom_bar() + labs(fill=column) +\n",
    "     theme(axis.text=element_text(size=15), \n",
    "        axis.title.x = element_text(size = 20), \n",
    "        axis.title.y = element_text(size = 20),\n",
    "        legend.title = element_text(size = 20), \n",
    "        legend.text = element_text(size = 20)) +\n",
    "        annotate(\"text\", x = 0.9, y = 31000, label = paste(\"p-value =\", round(chi.sq$p.value,4)), color = \"black\", size = 10) \n",
    "}\n",
    "\n",
    "\n",
    "# Plot histogram for each numeric column\n",
    "plots <- lapply(colnames(data[, c(-numeric.cols, -12)]), get_barplot)\n",
    "\n",
    "# Save\n",
    "plot.arrange <- ggarrange(plots[[2]],plots[[3]],plots[[9]],\n",
    "          plots[[1]],plots[[4]],plots[[5]],\n",
    "          plots[[6]],plots[[7]],plots[[8]], nrow=3, ncol=3)\n",
    "\n",
    "ggsave(\"../docs/assests/categorical_cols_barplots.png\",bg = \"white\", plot = plot.arrange, width = 30, height = 20)"
   ]
  },
  {
   "cell_type": "markdown",
   "metadata": {},
   "source": [
    "### Categorical variables comparisons\n",
    "![](../docs/assests/categorical_cols_barplots.png)"
   ]
  },
  {
   "cell_type": "markdown",
   "metadata": {},
   "source": [
    "The plot shows that all the variables but the Gender have a statistically significant relationship with a patient's health status. Therfore, all this variables, alongside the numerical variables, may be a valuable source of information to train a model to predict cardiovascular disease. "
   ]
  }
 ],
 "metadata": {
  "kernelspec": {
   "display_name": "R",
   "language": "R",
   "name": "ir"
  },
  "language_info": {
   "codemirror_mode": "r",
   "file_extension": ".r",
   "mimetype": "text/x-r-source",
   "name": "R",
   "pygments_lexer": "r",
   "version": "4.4.1"
  }
 },
 "nbformat": 4,
 "nbformat_minor": 2
}
